{
 "cells": [
  {
   "cell_type": "markdown",
   "metadata": {},
   "source": [
    "# Utils"
   ]
  },
  {
   "cell_type": "markdown",
   "metadata": {},
   "source": [
    "## Imports"
   ]
  },
  {
   "cell_type": "code",
   "execution_count": 3,
   "metadata": {
    "ExecuteTime": {
     "end_time": "2020-09-30T04:45:42.578002Z",
     "start_time": "2020-09-30T04:45:34.568163Z"
    },
    "init_cell": true
   },
   "outputs": [],
   "source": [
    "# import os\n",
    "import pickle\n",
    "import warnings\n",
    "import seaborn\n",
    "import pandas as pd\n",
    "import autograd.numpy as np\n",
    "import matplotlib.pyplot as plt\n",
    "import matplotlib.image as mpimg\n",
    "from skimage.morphology import opening, closing, ball, dilation\n",
    "\n",
    "from autograd import grad\n",
    "from skimage import io\n",
    "from skimage import data\n",
    "from skimage import color\n",
    "from skimage.morphology import opening, ball\n",
    "from scipy.ndimage import fourier_shift, zoom, gaussian_filter\n",
    "from scipy.sparse import csr_matrix, hstack\n",
    "from scipy.stats import pearsonr\n",
    "from scipy.spatial.distance import cdist\n",
    "from scipy.ndimage.measurements import center_of_mass\n",
    "from sklearn.decomposition import NMF, non_negative_factorization\n",
    "\n",
    "from tqdm.notebook import tqdm\n",
    "\n",
    "import ipywidgets as widgets\n",
    "from ipywidgets import interactive, IntSlider"
   ]
  },
  {
   "cell_type": "markdown",
   "metadata": {},
   "source": [
    "## Image Pre-Processing"
   ]
  },
  {
   "cell_type": "code",
   "execution_count": 4,
   "metadata": {
    "ExecuteTime": {
     "end_time": "2020-09-30T04:45:42.592444Z",
     "start_time": "2020-09-30T04:45:42.580900Z"
    },
    "init_cell": true
   },
   "outputs": [],
   "source": [
    "#clamp image values to 0 at the low end\n",
    "def high_pass(Y, pct = 10):\n",
    "    Y_new = Y.copy()\n",
    "    for idx in tqdm(range(Y.shape[3])):\n",
    "        Ytemp = Y[:,:,:,idx]\n",
    "        thresh = np.percentile(Ytemp[Ytemp > 0], pct)\n",
    "        Ytemp[Ytemp < thresh] = thresh\n",
    "        Y_new[:,:,:,idx] = Ytemp - thresh\n",
    "\n",
    "    return Y_new\n",
    "\n",
    "#normalize channels across rounds using average of high pixel values\n",
    "def percentile_normalize(Y, pct_low = 95, pct_high = 99, return_sf = False):\n",
    "    sf = []\n",
    "    Y_new = Y.copy()\n",
    "    Y_new = Y_new.astype('d')\n",
    "    for idx in tqdm(range(Y.shape[3])):\n",
    "        in_range = np.logical_and(Y[:,:,:,idx] > np.percentile(Y[:,:,:,idx], pct_low), Y[:,:,:,idx] < np.percentile(Y[:,:,:,idx], pct_high)) \n",
    "        if np.min(Y[in_range, idx]) <= 0:\n",
    "            print('WARNING: Percentile values may be poorly scaled...')\n",
    "        scale_fac = np.mean(Y[in_range, idx])\n",
    "        sf.append(scale_fac)\n",
    "        Y_new[:,:,:,idx] = Y[:,:,:,idx]/scale_fac\n",
    "    \n",
    "    Y_new = Y_new*np.median(sf)\n",
    "    if return_sf:\n",
    "        return Y_new, sf\n",
    "    else:\n",
    "        return Y_new\n",
    "\n",
    "#use morphological opening to remove background noise\n",
    "def background_opening(Y, size = 3):\n",
    "    strel = ball(size)\n",
    "    Y_new = Y.copy()\n",
    "    for i in tqdm(range(Y.shape[3])):\n",
    "        Y_new[:,:,:,i] = Y[:,:,:,i] - opening(Y[:,:,:,i], strel)\n",
    "    \n",
    "    return Y_new"
   ]
  },
  {
   "cell_type": "markdown",
   "metadata": {},
   "source": [
    "## Visualization"
   ]
  },
  {
   "cell_type": "code",
   "execution_count": 5,
   "metadata": {
    "ExecuteTime": {
     "end_time": "2020-09-30T04:45:42.623200Z",
     "start_time": "2020-09-30T04:45:42.594588Z"
    },
    "init_cell": true
   },
   "outputs": [],
   "source": [
    "%matplotlib inline\n",
    "\n",
    "#image visualization utility functions\n",
    "\n",
    "def imagesc(img, sz1 = 10, sz2 = 10):\n",
    "    plt.figure(figsize=(sz1,sz2))\n",
    "    plt.tick_params(axis='both', which='both', bottom=False, top=False, labelbottom=False, left=False, labelleft=False)\n",
    "    max_val = np.percentile(img, 99.9) #make sure colors are scaled over whole image\n",
    "    plt.imshow(img, vmin = 0, vmax = max_val)\n",
    "    \n",
    "def viewmask(img, sz1 = 10, sz2 = 15):\n",
    "    plt.figure(figsize=(sz1,sz2))\n",
    "    plt.tick_params(axis='both', which='both', bottom=False, top=False, labelbottom=False, left=False, labelleft=False)\n",
    "    plt.imshow(np.sum(img, 2), vmin = 0)\n",
    "\n",
    "def imagesc3D(vol):\n",
    "    def f(idx):\n",
    "        plt.figure(figsize=(10,10))\n",
    "        plt.tick_params(axis='both', which='both', bottom=False, top=False, labelbottom=False, left=False, labelleft=False)\n",
    "        max_val = np.percentile(vol, 99) #make sure colors are scaled over whole image\n",
    "        plt.imshow(vol[:,:, idx], vmin = 0,vmax = max_val)\n",
    "        plt.show()\n",
    "\n",
    "    interactive_plot = interactive(f, idx=IntSlider(value=0, description='slice', max=vol.shape[-1]-1, min=0, continuous_update = False))\n",
    "    output = interactive_plot.children[-1]\n",
    "    output.layout.height = '650px'\n",
    "    return interactive_plot\n",
    "\n",
    "def imagesc4D(vol):\n",
    "    def f(cidx, zidx):\n",
    "        plt.figure(figsize=(10,10))\n",
    "        plt.tick_params(axis='both', which='both', bottom=False, top=False, labelbottom=False, left=False, labelleft=False)\n",
    "        max_val = np.percentile(vol, 99) #make sure colors are scaled over whole image\n",
    "        plt.imshow(vol[:,:, zidx,cidx], vmin = 0, vmax = max_val)\n",
    "        plt.show()\n",
    "\n",
    "    interactive_plot = interactive(f, cidx=IntSlider(value=0, description='channel', max=vol.shape[-1]-1, min=0, continuous_update = False), zidx=IntSlider(value=0, description='slice', max=vol.shape[-2]-1, min=0, continuous_update = False))\n",
    "    output = interactive_plot.children[-1]\n",
    "    output.layout.height = '650px'\n",
    "    return interactive_plot\n",
    "\n",
    "def view_components(vol):\n",
    "    def f(idx):\n",
    "        plt.figure(figsize=(10,10))\n",
    "        plt.tick_params(axis='both', which='both', bottom=False, top=False, labelbottom=False, left=False, labelleft=False)\n",
    "        plt.imshow(np.sum(vol[:,:, :, idx], 2))\n",
    "        plt.show()\n",
    "\n",
    "    interactive_plot = interactive(f, idx=IntSlider(value=0, description='cell', max=vol.shape[-1]-1, min=0, continuous_update = False))\n",
    "    output = interactive_plot.children[-1]\n",
    "    output.layout.height = '650px'\n",
    "    return interactive_plot"
   ]
  },
  {
   "cell_type": "markdown",
   "metadata": {},
   "source": [
    "## Patching"
   ]
  },
  {
   "cell_type": "code",
   "execution_count": 6,
   "metadata": {
    "ExecuteTime": {
     "end_time": "2020-09-30T04:45:42.645219Z",
     "start_time": "2020-09-30T04:45:42.625096Z"
    },
    "init_cell": true
   },
   "outputs": [],
   "source": [
    "#greedily initialize cell bodies of a certain size\n",
    "\n",
    "def greedy_init(Y, n_components, sigma, verbose = True):\n",
    "    devs = 4\n",
    "    #save dimensions of Y\n",
    "    d1, d2, d3, T = Y.shape\n",
    "\n",
    "    #initialize objects\n",
    "    dsigma = 2*np.array(sigma)+1\n",
    "    W = np.zeros((d1, d2, d3, n_components))\n",
    "    H = np.zeros((n_components,T))\n",
    "    centers = np.zeros((n_components, 3))\n",
    "    Y_init = Y.copy()\n",
    "    Y_init = Y_init.astype('double')\n",
    "\n",
    "    #gaussian blur image\n",
    "    rho = np.array([gaussian_filter(Y_init[:,:,:, i], sigma, mode = 'constant', output = 'double', truncate = devs) for i in range(T)])\n",
    "    rho = np.moveaxis(rho, 0, -1)\n",
    "\n",
    "    #find sum image\n",
    "    v = np.sum(rho, 3)\n",
    "\n",
    "    for k in range(n_components):\n",
    "        #find max location and boundaries\n",
    "        ix, iy, iz = np.unravel_index(np.argmax(v), v.shape)\n",
    "        xmax, xmin = min(v.shape[0]-1, ix + dsigma[0]), max(0, ix - dsigma[0])\n",
    "        ymax, ymin = min(v.shape[1]-1, iy + dsigma[1]), max(0, iy - dsigma[1])\n",
    "        zmax, zmin = min(v.shape[2]-1, iz + dsigma[2]), max(0, iz - dsigma[2])\n",
    "\n",
    "        data = Y_init[xmin:xmax, ymin:ymax, zmin:zmax, :]\n",
    "        dims = data.shape\n",
    "        data = np.reshape(data, (dims[0]*dims[1]* dims[2], dims[3]))\n",
    "        rA, C, niter = non_negative_factorization(data, n_components = 1, alpha = 0.2, max_iter = 100, tol = 1e-50)\n",
    "\n",
    "        #save extracted components\n",
    "        A = np.reshape(rA, (dims[0], dims[1],dims[2]))\n",
    "        W[xmin:xmax, ymin:ymax, zmin:zmax,k] = A\n",
    "        H[k, :] = C\n",
    "        centers[k,:] = [ix, iy, iz]\n",
    "        \n",
    "        if k < (n_components-1): #if not last component\n",
    "            #update Y_init\n",
    "            removed_data = np.dot(rA, C)\n",
    "            removed_data = np.reshape(removed_data, (dims[0], dims[1], dims[2], dims[3]))\n",
    "            \n",
    "            temp = Y_init[xmin:xmax, ymin:ymax, zmin:zmax, :] - removed_data\n",
    "            temp[temp < 0] = 0 #remove negative values\n",
    "            Y_init[xmin:xmax, ymin:ymax, zmin:zmax, :] = temp\n",
    "            \n",
    "            rho_xmax, rho_xmin = min(v.shape[0]-1, xmax+devs*sigma[0]), max(0, xmin-devs*sigma[0])\n",
    "            rho_ymax, rho_ymin = min(v.shape[1]-1, ymax+devs*sigma[1]), max(0, ymin-devs*sigma[1])\n",
    "            rho_zmax, rho_zmin = min(v.shape[2]-1, zmax+devs*sigma[2]), max(0, zmin-devs*sigma[2])\n",
    "            \n",
    "            inp_xmax, inp_xmin = min(v.shape[0]-1, xmax+2*devs*sigma[0]), max(0, xmin-2*devs*sigma[0])\n",
    "            inp_ymax, inp_ymin = min(v.shape[1]-1, ymax+2*devs*sigma[1]), max(0, ymin-2*devs*sigma[1])\n",
    "            inp_zmax, inp_zmin = min(v.shape[2]-1, zmax+2*devs*sigma[2]), max(0, zmin-2*devs*sigma[2])\n",
    "            #update rho\n",
    "            for i in range(T):\n",
    "                rho[:,:,:,i] = gaussian_filter(Y_init[:,:,:, i], sigma, mode = 'constant', output = 'double', truncate = devs)\n",
    "\n",
    "            #update sum image\n",
    "            v = np.sum(rho, 3)\n",
    "        if verbose:\n",
    "            print('Found Component #' + str(k+1) + '...')\n",
    "    return W, H, centers"
   ]
  },
  {
   "cell_type": "code",
   "execution_count": 7,
   "metadata": {
    "ExecuteTime": {
     "end_time": "2020-09-30T04:45:42.655300Z",
     "start_time": "2020-09-30T04:45:42.646909Z"
    },
    "init_cell": true
   },
   "outputs": [],
   "source": [
    "def create_3D_patches(dims, patchsize, overlap):\n",
    "    xdim, ydim, zdim = dims\n",
    "    px, py, pz = patchsize\n",
    "    ovlp_x, ovlp_y, ovlp_z = overlap\n",
    "    \n",
    "    itx, ity, itz = px - ovlp_x, py - ovlp_y, pz - ovlp_z\n",
    "    \n",
    "    xvals = [0]\n",
    "    yvals = [0]\n",
    "    zvals = [0]\n",
    "    \n",
    "    while xvals[-1]+px < xdim:\n",
    "        xvals.append(xvals[-1] + itx)\n",
    "        \n",
    "    while yvals[-1]+py< ydim:\n",
    "        yvals.append(yvals[-1] + ity)\n",
    "        \n",
    "    while zvals[-1]+pz < zdim:\n",
    "        zvals.append(zvals[-1] + itz)\n",
    "        \n",
    "    n_patches = len(xvals) * len(yvals) * len(zvals)\n",
    "    patches = np.zeros((2,3, n_patches))\n",
    "    \n",
    "    i = 0\n",
    "    for xmin in xvals:\n",
    "        for ymin in yvals:\n",
    "            for zmin in zvals:\n",
    "                xmax, ymax, zmax = min(xmin+px, xdim),min(ymin+py, ydim),min(zmin+pz, zdim)\n",
    "                patches[:,:, i] = np.array([[xmin, ymin, zmin], [xmax, ymax, zmax]])\n",
    "                i += 1\n",
    "    \n",
    "    return patches.astype('int')"
   ]
  },
  {
   "cell_type": "code",
   "execution_count": 8,
   "metadata": {
    "ExecuteTime": {
     "end_time": "2020-09-30T04:45:42.662666Z",
     "start_time": "2020-09-30T04:45:42.656800Z"
    },
    "init_cell": true
   },
   "outputs": [],
   "source": [
    "def process_patch(Y, n_components, sigma, patch_list):\n",
    "    W_init, H_init, centers = greedy_init(Y, n_components, sigmas)\n",
    "    \n",
    "    W_init, H_init, pl = merge_components(W_init, H_init, patch_list)\n",
    "    n_components = W_init.shape[-1]\n",
    "    \n",
    "    d1,d2,d3,T = Y.shape\n",
    "    dim = d1*d2*d3\n",
    "\n",
    "    Y = np.reshape(Y, (dim, T))\n",
    "    W_init = np.reshape(W_init, (dim, n_components))\n",
    "    \n",
    "    A, C, niter = non_negative_factorization(Y, W = W_init, H = H_init, n_components = n_components, \n",
    "                update_H = False, verbose = False, alpha = 0.5, max_iter = 200, tol = 1e-4, init = 'custom', l1_ratio = 1)\n",
    "    A = np.reshape(A, (d1,d2,d3,n_components))\n",
    "        \n",
    "    return A,C, pl"
   ]
  },
  {
   "cell_type": "code",
   "execution_count": 9,
   "metadata": {
    "ExecuteTime": {
     "end_time": "2020-09-30T04:45:42.668091Z",
     "start_time": "2020-09-30T04:45:42.664325Z"
    },
    "init_cell": true
   },
   "outputs": [],
   "source": [
    "def embed_patch_results(A, full_dims, patch_min_coords, patch_max_coords):\n",
    "    T = A.shape[-1]\n",
    "    xmin, ymin, zmin = patch_min_coords\n",
    "    xmax, ymax, zmax = patch_max_coords\n",
    "    \n",
    "    full = np.zeros([full_dims[0], full_dims[1], full_dims[2], T])\n",
    "    full[xmin:xmax, ymin:ymax, zmin:zmax, :] = A\n",
    "    \n",
    "    return full"
   ]
  },
  {
   "cell_type": "markdown",
   "metadata": {},
   "source": [
    "## Post-Processing"
   ]
  },
  {
   "cell_type": "code",
   "execution_count": 10,
   "metadata": {
    "ExecuteTime": {
     "end_time": "2020-09-30T04:45:42.674459Z",
     "start_time": "2020-09-30T04:45:42.670477Z"
    },
    "init_cell": true
   },
   "outputs": [],
   "source": [
    "def remove_empty_components(A, C, patch_list):\n",
    "    Aempty = np.sum(A, (0,1,2)) == 0\n",
    "    Cempty = np.sum(C, 1) == 0\n",
    "    remove = np.where(np.logical_or(Aempty, Cempty))[0]\n",
    "    \n",
    "    A = np.delete(A, remove, -1)\n",
    "    C = np.delete(C, remove, 0)\n",
    "    patch_list = np.delete(patch_list, remove, 0)\n",
    "        \n",
    "    return A, C, patch_list"
   ]
  },
  {
   "cell_type": "code",
   "execution_count": 11,
   "metadata": {
    "ExecuteTime": {
     "end_time": "2020-09-30T04:45:42.681014Z",
     "start_time": "2020-09-30T04:45:42.676127Z"
    },
    "init_cell": true
   },
   "outputs": [],
   "source": [
    "def connected_components(adjacency, min_size = 0):\n",
    "    viewed = set()\n",
    "    components = []\n",
    "    for seed in range(adjacency.shape[0]):\n",
    "        if seed not in viewed:\n",
    "            component = [seed]\n",
    "            for node in component:\n",
    "                viewed.add(node)\n",
    "                connected = np.where(adjacency[seed, :] > 0)[0]\n",
    "                \n",
    "                for n in connected: \n",
    "                    if n not in viewed:\n",
    "                        component.append(n)\n",
    "                        viewed.add(n)\n",
    "            \n",
    "            components.append(component)\n",
    "    \n",
    "    components = [component for component in components if len(component) >= min_size]\n",
    "    return components"
   ]
  },
  {
   "cell_type": "code",
   "execution_count": 12,
   "metadata": {
    "ExecuteTime": {
     "end_time": "2020-09-30T04:45:42.685549Z",
     "start_time": "2020-09-30T04:45:42.682445Z"
    },
    "init_cell": true
   },
   "outputs": [],
   "source": [
    "def patch_mismatch(patch_list):\n",
    "    mat = np.zeros((patch_list.shape[0], patch_list.shape[0]))\n",
    "    for i in range(patch_list.shape[0]):\n",
    "        mat[i, :] = patch_list != patch_list[i]\n",
    "        \n",
    "    return mat"
   ]
  },
  {
   "cell_type": "code",
   "execution_count": 13,
   "metadata": {
    "ExecuteTime": {
     "end_time": "2020-09-30T04:45:42.693508Z",
     "start_time": "2020-09-30T04:45:42.686911Z"
    },
    "init_cell": true
   },
   "outputs": [],
   "source": [
    "#find spatial and temporal correlation between components, merge those that have high correlation in both, remove duplicate components\n",
    "def merge_components(A, C, patch_list, spatial_thresh = 0.05, crosspatch_spatial_thresh = 0.05, temporal_thresh = 0.85):\n",
    "    spatial_correlation = create_spatial_correlation(A)\n",
    "    temporal_correlation = create_temporal_correlation(C)\n",
    "    patch_mis = patch_mismatch(patch_list)\n",
    "    \n",
    "    spatial_overlap = (spatial_correlation > spatial_thresh)\n",
    "    temporal_overlap = (temporal_correlation > temporal_thresh)\n",
    "    \n",
    "    to_merge = np.logical_and(spatial_overlap, temporal_overlap)\n",
    "    conn_comp = connected_components(to_merge, min_size = 2)\n",
    "    \n",
    "    Anew = A.copy()\n",
    "    Cnew = C.copy()\n",
    "    for comp in tqdm(conn_comp):\n",
    "        merge_idx = comp[0]\n",
    "        \n",
    "        inpA = A[:,:,:,comp]\n",
    "        inpC = C[comp,:]\n",
    "        clique_patch_list = patch_list[comp]\n",
    "        \n",
    "        mergeA, mergeC = merge_component_clique(inpA, inpC, clique_patch_list)\n",
    "        \n",
    "        Anew[:,:,:,comp] = 0\n",
    "        Cnew[comp,:]\n",
    "        \n",
    "        Anew[:,:,:,merge_idx] = mergeA\n",
    "        Cnew[comp,:] = mergeC\n",
    "    \n",
    "        \n",
    "    Anew, Cnew, patch_list = remove_empty_components(Anew, Cnew, patch_list)\n",
    "    \n",
    "    return Anew, Cnew, patch_list"
   ]
  },
  {
   "cell_type": "code",
   "execution_count": 14,
   "metadata": {
    "ExecuteTime": {
     "end_time": "2020-09-30T04:45:42.704166Z",
     "start_time": "2020-09-30T04:45:42.694910Z"
    },
    "init_cell": true
   },
   "outputs": [],
   "source": [
    "#subfunction for merging groups of components\n",
    "def merge_component_clique(As, Cs, patch_list):\n",
    "    Ys = []\n",
    "    for idx in np.unique(patch_list):\n",
    "        tempAs = As[:,:,:,patch_list == idx]\n",
    "        tempCs = Cs[patch_list == idx, :]\n",
    "        tempYs = [np.matmul(tempAs[:, :, :, [i]], tempCs[[i], :]) for i in range(tempAs.shape[-1])]\n",
    "        tempY = np.sum(tempYs, 0)\n",
    "        Ys.append(tempY)\n",
    "    \n",
    "    Y = Ys.pop()\n",
    "    Ypos = (np.sum(Y, -1, keepdims = True) > 0).astype('int')\n",
    "\n",
    "    while len(Ys) > 0:\n",
    "        current = Ys.pop()\n",
    "        Y = np.add(Y, current)\n",
    "        Ypos = np.add(Ypos, (np.sum(current, -1, keepdims = True) > 0).astype('int'))\n",
    "    \n",
    "    Ypos[Ypos == 0] = 1\n",
    "    Y = Y/Ypos\n",
    "        \n",
    "    d1,d2,d3, T = Y.shape\n",
    "    Y = np.reshape(Y, (d1*d2*d3, T))\n",
    "    W_init = np.reshape(np.mean(As, 3), (d1*d2*d3, 1))\n",
    "    H_init = np.mean(Cs, 0, keepdims = True)\n",
    "    \n",
    "    A, C, niter = non_negative_factorization(Y, W = W_init, H = H_init, n_components = 1,\n",
    "                    verbose = False, alpha = 0.5, max_iter = 100, tol = 1e-30, init = 'custom')\n",
    "    \n",
    "    A = np.reshape(A, ((d1,d2,d3)))\n",
    "    return A, C"
   ]
  },
  {
   "cell_type": "code",
   "execution_count": 15,
   "metadata": {
    "ExecuteTime": {
     "end_time": "2020-09-30T04:45:42.713182Z",
     "start_time": "2020-09-30T04:45:42.705681Z"
    },
    "init_cell": true
   },
   "outputs": [],
   "source": [
    "#calculate correlation graphs\n",
    "def create_spatial_correlation(A, blur = False, sigma = [0.5,0.5,0.5]):\n",
    "    n_cells = A.shape[-1]\n",
    "    if blur:\n",
    "        A = A.copy()\n",
    "        for i in tqdm(range(n_cells)):\n",
    "            A[:,:,:,i] = gaussian_filter(A[:,:,:,i], sigma, mode = 'constant', output = 'double')\n",
    "    \n",
    "    A = np.reshape(A, (-1, n_cells))\n",
    "\n",
    "    cellsum = np.sum(A, 0, keepdims = True)\n",
    "    A = A / cellsum \n",
    "    \n",
    "    spatial_overlap = np.zeros((n_cells, n_cells))\n",
    "    \n",
    "    for i in tqdm(range(n_cells-1)):\n",
    "        i_pos = A[:, i] > 0\n",
    "        tempA = A[i_pos, :]\n",
    "        subtract_vec = tempA[:, [i]]\n",
    "        tempA = tempA[:, i+1:]\n",
    "        tempA = tempA - subtract_vec\n",
    "        tempA[tempA > 0] = 0\n",
    "        overlap = np.sum(tempA, 0) + 1\n",
    "        spatial_overlap[i, i+1:] = overlap\n",
    "        spatial_overlap[i+1:, i] = overlap\n",
    "            \n",
    "    return spatial_overlap\n",
    "\n",
    "def create_temporal_correlation(C):\n",
    "    return np.abs(np.corrcoef(C)) - np.eye(C.shape[0])"
   ]
  },
  {
   "cell_type": "code",
   "execution_count": 16,
   "metadata": {
    "ExecuteTime": {
     "end_time": "2020-09-30T04:45:42.719060Z",
     "start_time": "2020-09-30T04:45:42.714869Z"
    },
    "init_cell": true
   },
   "outputs": [],
   "source": [
    "def get_fov_index(fov_list, idx):\n",
    "    fov_label = fov_list[idx]\n",
    "    start_idx = np.where(fov_list == fov_label)[0][0]\n",
    "    new_idx = idx - start_idx\n",
    "    return fov_label, new_idx\n",
    "\n",
    "def get_fov_index_dict(fov_list, idx_list):\n",
    "    return_dict = {}\n",
    "    for idx in idx_list:\n",
    "        fov_label, new_idx = get_fov_index(fov_list, idx)\n",
    "        if fov_label in return_dict:\n",
    "            return_dict[fov_label].append(new_idx)\n",
    "        else:\n",
    "            return_dict[fov_label] = [new_idx]\n",
    "    \n",
    "    return return_dict"
   ]
  },
  {
   "cell_type": "markdown",
   "metadata": {},
   "source": [
    "## Basecalling"
   ]
  },
  {
   "cell_type": "code",
   "execution_count": 17,
   "metadata": {
    "ExecuteTime": {
     "end_time": "2020-09-30T04:45:42.730250Z",
     "start_time": "2020-09-30T04:45:42.720690Z"
    },
    "init_cell": true
   },
   "outputs": [],
   "source": [
    "def basecall_round(Y, thresh_c, thresh_d, it):\n",
    "    dim,T = Y.shape\n",
    "    if not T == it:\n",
    "        raise Exception('Wrong round dimension...')\n",
    "        \n",
    "    Y = Y.copy().astype('double')\n",
    "    new = np.zeros((dim,T+1)).astype('int')\n",
    "    new[:,0] = (Y[:,0] - thresh_c*Y[:,1]) > 0\n",
    "    new[:,1] = (Y[:,1] - thresh_c*Y[:,0]) > 0\n",
    "    new[:,2] = (Y[:,2] - thresh_d*np.max(Y[:,0:2], 1)) > 0\n",
    "    \n",
    "    new[:, 0] = new[:, 0] - new[:, 2]\n",
    "    new[:, 1] = new[:, 1] - new[:, 2]\n",
    "    \n",
    "    new[new < 0] = 0\n",
    "    \n",
    "    new[:,3] = np.sum(new, 1) == 0\n",
    "    return new\n",
    "\n",
    "def matrix_basecall(Y, thresh_c = 1.5, thresh_d = 1.5, it = 3):\n",
    "    dim,T = Y.shape\n",
    "    basecalls = np.zeros((dim, int(T*(it+1)/it)), dtype = int)\n",
    "    for i in tqdm(range(0, Y.shape[-1], it)):\n",
    "        rd = Y[:,i:i+it]\n",
    "        b_idx = int(i*(it+1)/it)\n",
    "        basecalls[:, b_idx:b_idx+it+1] = basecall_round(rd, thresh_c = thresh_c, thresh_d = thresh_d, it = it)\n",
    "    \n",
    "    return basecalls"
   ]
  },
  {
   "cell_type": "code",
   "execution_count": 18,
   "metadata": {
    "ExecuteTime": {
     "end_time": "2020-09-30T04:45:42.735425Z",
     "start_time": "2020-09-30T04:45:42.732079Z"
    },
    "init_cell": true
   },
   "outputs": [],
   "source": [
    "def get_A_pixels(Y, Acomp, percentile = 95):\n",
    "    pos = Acomp[Acomp > 0]\n",
    "    vals = np.where(Acomp > np.percentile(pos, percentile))\n",
    "    \n",
    "    return Y[vals[0], vals[1], vals[2], :]"
   ]
  },
  {
   "cell_type": "code",
   "execution_count": 19,
   "metadata": {
    "ExecuteTime": {
     "end_time": "2020-09-30T04:45:42.744150Z",
     "start_time": "2020-09-30T04:45:42.737035Z"
    },
    "init_cell": true
   },
   "outputs": [],
   "source": [
    "def calc_sy(flatY):\n",
    "    dim, T = flatY.shape\n",
    "    n = T\n",
    "    sy = flatY.sum(axis=1, keepdims=True)\n",
    "    sty = np.sqrt(np.sum((flatY - sy/T)**2, 1, keepdims = True) / n)\n",
    "    \n",
    "    return sy, sty\n",
    "\n",
    "def barcode_correlation(X, flatY, sy = None, sty = None):\n",
    "    dim, T = flatY.shape\n",
    "    n = T\n",
    "    if sy is None or sty is None:\n",
    "        sy = flatY.sum(axis=1, keepdims=True)\n",
    "        sty = np.sqrt(np.sum((flatY - sy/T)**2, 1, keepdims = True) / n)\n",
    "    \n",
    "    stx = np.std(X)\n",
    "    sx = np.sum(X)\n",
    "    \n",
    "    corr = (n*np.sum(flatY*X, 1, keepdims = True) - sx*sy) / (n**2 * stx * sty)\n",
    "\n",
    "    corr[np.isnan(corr)] = 0\n",
    "    corr[np.isinf(corr)] = 0\n",
    "    \n",
    "    return corr, sy, sty\n",
    "\n",
    "def barcode_match(barcode, barcode_img, num_bases):\n",
    "    matches = np.dot(barcode_img, barcode.T) == num_bases\n",
    "    return np.squeeze(matches)"
   ]
  },
  {
   "cell_type": "code",
   "execution_count": 20,
   "metadata": {
    "ExecuteTime": {
     "end_time": "2020-09-30T04:45:42.751139Z",
     "start_time": "2020-09-30T04:45:42.745974Z"
    },
    "init_cell": true
   },
   "outputs": [],
   "source": [
    "def norm_by_round(vec, bases = 3):\n",
    "    vec = vec.copy()\n",
    "    if(len(vec.shape) == 1):\n",
    "        vec = np.reshape(vec, (1, -1))\n",
    "    for i in range(0, vec.shape[-1], bases):\n",
    "        vec[:, i:i+bases] = vec[:, i:i+bases] / np.max(vec[:, i:i+bases], 1, keepdims = True)\n",
    "    return np.squeeze(vec)"
   ]
  },
  {
   "cell_type": "code",
   "execution_count": 21,
   "metadata": {
    "ExecuteTime": {
     "end_time": "2020-09-30T04:45:42.761533Z",
     "start_time": "2020-09-30T04:45:42.752919Z"
    },
    "init_cell": true
   },
   "outputs": [],
   "source": [
    "def duplicate_row(row):\n",
    "    chans = row.shape[0]\n",
    "    val = np.zeros((4, 4*chans))\n",
    "    for i in range(val.shape[0]):\n",
    "        val[i, i*chans:(i+1)*chans] = row\n",
    "    return val\n",
    "\n",
    "def reshape_data_for_optimization(array):\n",
    "    n_pix, n_col = array.shape\n",
    "    array = np.reshape(array, (n_pix, 5, 3))\n",
    "    \n",
    "    array_scaler = np.max(array, -1, keepdims = True)\n",
    "    array_scaler[array_scaler == 0] = 1\n",
    "    \n",
    "    array = array / array_scaler\n",
    "    \n",
    "    dup_array = np.zeros((n_pix, 5, 4, 12))\n",
    "    for pix in range(n_pix):\n",
    "        for r_idx in range(array.shape[1]):\n",
    "            dup_array[pix, r_idx,:, :] = duplicate_row(array[pix, r_idx, :])\n",
    "            \n",
    "    return dup_array\n",
    "\n",
    "def softmax_by_pixel(inp, beta_s = 250):\n",
    "    ex = np.exp(beta_s*inp.astype('float128'))\n",
    "    \n",
    "    bc = ex / np.sum(ex, 2, keepdims = True)\n",
    "    \n",
    "    n_pix = bc.shape[0]\n",
    "    return np.reshape(bc, (n_pix, -1)).astype('float64')"
   ]
  },
  {
   "cell_type": "code",
   "execution_count": 22,
   "metadata": {
    "ExecuteTime": {
     "end_time": "2020-09-30T04:45:42.769182Z",
     "start_time": "2020-09-30T04:45:42.763333Z"
    },
    "init_cell": true
   },
   "outputs": [],
   "source": [
    "def center_of_mass_norm(mask, order):\n",
    "    xi, yi, zi = np.where(mask)\n",
    "    center = np.array(center_of_mass(mask))\n",
    "    def loss(center):\n",
    "        xdist = np.sum(np.power(np.abs(xi - center[0]), order))\n",
    "        ydist = np.sum(np.power(np.abs(yi - center[1]), order))\n",
    "        zdist = np.sum(np.power(np.abs(zi - center[2]), order))\n",
    "        return xdist + ydist + zdist\n",
    "    \n",
    "    gradient = grad(loss)\n",
    "    \n",
    "    #print(\"Initial distance:\", loss(center))\n",
    "    for i in range(1000):\n",
    "        #if i % 100 == 0:\n",
    "            #print(\"Current distance:\", loss(center))\n",
    "        \n",
    "        g = gradient(center) \n",
    "        center -= g / (np.linalg.norm(g, 2))\n",
    "        \n",
    "    #print(\"Trained distance:\", loss(center))\n",
    "    return center\n",
    "    "
   ]
  },
  {
   "cell_type": "markdown",
   "metadata": {},
   "source": [
    "## Basecalling Optimization"
   ]
  },
  {
   "cell_type": "code",
   "execution_count": 23,
   "metadata": {
    "ExecuteTime": {
     "end_time": "2020-09-30T04:45:42.777291Z",
     "start_time": "2020-09-30T04:45:42.771005Z"
    },
    "init_cell": true
   },
   "outputs": [],
   "source": [
    "def basecalling_loss(weights, alpha = 1, beta = 4, gamma = 0.1):\n",
    "    loss = 0\n",
    "    for i in range(len(inputs)):\n",
    "        inpA = inputs[i][0] \n",
    "        inpB = inputs[i][1] \n",
    "        inpC = inputs[i][2]\n",
    "        bA = softmax_by_pixel(np.matmul(inpA, weights.T)) \n",
    "        bB = softmax_by_pixel(np.matmul(inpB, weights.T))\n",
    "        bC = softmax_by_pixel(np.matmul(inpC, weights.T))\n",
    "        #variance_loss = -np.mean(np.matmul(bA, bA.T)) \n",
    "        variance_loss = -np.mean(np.matmul(bA, bC.T)) \n",
    "        discrimination_loss = np.mean(np.matmul(bA, bB.T)) \n",
    "        \n",
    "        loss += (alpha*variance_loss + beta*discrimination_loss)/len(inputs)\n",
    "    \n",
    "    loss += gamma * np.sum(weights ** 2)\n",
    "    return loss"
   ]
  },
  {
   "cell_type": "code",
   "execution_count": 24,
   "metadata": {
    "ExecuteTime": {
     "end_time": "2020-09-30T04:45:42.783076Z",
     "start_time": "2020-09-30T04:45:42.778818Z"
    },
    "init_cell": true
   },
   "outputs": [],
   "source": [
    "def basecall_with_weights(Y, rweights):\n",
    "    d1, d2, d3, T = Y.shape\n",
    "    barcodeY = np.reshape(Y, (d1, d2, d3, 5, 3))\n",
    "    barcodeY = np.matmul(barcodeY, rweights.T)\n",
    "    barcodeY = (barcodeY / np.max(barcodeY, -1, keepdims = True) == 1).astype('int')\n",
    "    barcodeY = np.reshape(barcodeY, (d1,d2,d3, -1))\n",
    "    return barcodeY"
   ]
  },
  {
   "cell_type": "markdown",
   "metadata": {},
   "source": [
    "# Cell Body Search"
   ]
  },
  {
   "cell_type": "markdown",
   "metadata": {},
   "source": [
    "## Calculate NMF components"
   ]
  },
  {
   "cell_type": "code",
   "execution_count": 2,
   "metadata": {
    "ExecuteTime": {
     "end_time": "2020-09-30T04:45:29.650184Z",
     "start_time": "2020-09-30T04:45:29.445511Z"
    }
   },
   "outputs": [
    {
     "ename": "NameError",
     "evalue": "name 'np' is not defined",
     "output_type": "error",
     "traceback": [
      "\u001b[0;31m---------------------------------------------------------------------------\u001b[0m",
      "\u001b[0;31mNameError\u001b[0m                                 Traceback (most recent call last)",
      "\u001b[0;32m<ipython-input-2-5fd9b0a7d398>\u001b[0m in \u001b[0;36m<module>\u001b[0;34m\u001b[0m\n\u001b[1;32m     22\u001b[0m \u001b[0mYs\u001b[0m \u001b[0;34m=\u001b[0m \u001b[0;34m{\u001b[0m\u001b[0;34m}\u001b[0m\u001b[0;34m\u001b[0m\u001b[0;34m\u001b[0m\u001b[0m\n\u001b[1;32m     23\u001b[0m \u001b[0;34m\u001b[0m\u001b[0m\n\u001b[0;32m---> 24\u001b[0;31m \u001b[0mYs\u001b[0m\u001b[0;34m[\u001b[0m\u001b[0;34m'0_0'\u001b[0m\u001b[0;34m]\u001b[0m \u001b[0;34m=\u001b[0m \u001b[0mload_fov\u001b[0m\u001b[0;34m(\u001b[0m\u001b[0;34m'/mp/nas2/DG/iarpa_virtual_tiles/0_0/2_color-correction/'\u001b[0m\u001b[0;34m,\u001b[0m \u001b[0mext\u001b[0m \u001b[0;34m=\u001b[0m \u001b[0;34m''\u001b[0m\u001b[0;34m)\u001b[0m\u001b[0;34m\u001b[0m\u001b[0;34m\u001b[0m\u001b[0m\n\u001b[0m\u001b[1;32m     25\u001b[0m \u001b[0mYs\u001b[0m\u001b[0;34m[\u001b[0m\u001b[0;34m'0_1'\u001b[0m\u001b[0;34m]\u001b[0m \u001b[0;34m=\u001b[0m \u001b[0mload_fov\u001b[0m\u001b[0;34m(\u001b[0m\u001b[0;34m'/mp/nas2/DG/iarpa_virtual_tiles/0_1/2_color-correction/'\u001b[0m\u001b[0;34m,\u001b[0m \u001b[0mext\u001b[0m \u001b[0;34m=\u001b[0m \u001b[0;34m''\u001b[0m\u001b[0;34m)\u001b[0m\u001b[0;34m\u001b[0m\u001b[0;34m\u001b[0m\u001b[0m\n\u001b[1;32m     26\u001b[0m \u001b[0mYs\u001b[0m\u001b[0;34m[\u001b[0m\u001b[0;34m'1_0'\u001b[0m\u001b[0;34m]\u001b[0m \u001b[0;34m=\u001b[0m \u001b[0mload_fov\u001b[0m\u001b[0;34m(\u001b[0m\u001b[0;34m'/mp/nas2/DG/iarpa_virtual_tiles/1_0/4_registration/'\u001b[0m\u001b[0;34m)\u001b[0m\u001b[0;34m\u001b[0m\u001b[0;34m\u001b[0m\u001b[0m\n",
      "\u001b[0;32m<ipython-input-2-5fd9b0a7d398>\u001b[0m in \u001b[0;36mload_fov\u001b[0;34m(filepath, ext, raw)\u001b[0m\n\u001b[1;32m     12\u001b[0m             \u001b[0mfilenames\u001b[0m\u001b[0;34m.\u001b[0m\u001b[0mappend\u001b[0m\u001b[0;34m(\u001b[0m\u001b[0mfilepath\u001b[0m\u001b[0;34m+\u001b[0m\u001b[0;34m'richieseq_round00'\u001b[0m\u001b[0;34m+\u001b[0m\u001b[0mstr\u001b[0m\u001b[0;34m(\u001b[0m\u001b[0mridx\u001b[0m\u001b[0;34m)\u001b[0m\u001b[0;34m+\u001b[0m\u001b[0;34m'_'\u001b[0m\u001b[0;34m+\u001b[0m\u001b[0mfs\u001b[0m\u001b[0;34m+\u001b[0m\u001b[0mext\u001b[0m\u001b[0;34m+\u001b[0m\u001b[0;34m'.tif'\u001b[0m\u001b[0;34m)\u001b[0m\u001b[0;34m\u001b[0m\u001b[0;34m\u001b[0m\u001b[0m\n\u001b[1;32m     13\u001b[0m \u001b[0;34m\u001b[0m\u001b[0m\n\u001b[0;32m---> 14\u001b[0;31m     \u001b[0mY\u001b[0m \u001b[0;34m=\u001b[0m \u001b[0mnp\u001b[0m\u001b[0;34m.\u001b[0m\u001b[0marray\u001b[0m\u001b[0;34m(\u001b[0m\u001b[0;34m[\u001b[0m\u001b[0mzoom\u001b[0m\u001b[0;34m(\u001b[0m\u001b[0mio\u001b[0m\u001b[0;34m.\u001b[0m\u001b[0mimread\u001b[0m\u001b[0;34m(\u001b[0m\u001b[0mfilenames\u001b[0m\u001b[0;34m[\u001b[0m\u001b[0mj\u001b[0m\u001b[0;34m]\u001b[0m\u001b[0;34m)\u001b[0m\u001b[0;34m,\u001b[0m \u001b[0;34m(\u001b[0m\u001b[0;36m0.25\u001b[0m\u001b[0;34m,\u001b[0m \u001b[0;36m0.25\u001b[0m\u001b[0;34m,\u001b[0m \u001b[0;36m0.25\u001b[0m\u001b[0;34m)\u001b[0m\u001b[0;34m,\u001b[0m \u001b[0morder\u001b[0m \u001b[0;34m=\u001b[0m \u001b[0;36m1\u001b[0m\u001b[0;34m)\u001b[0m  \u001b[0;32mfor\u001b[0m \u001b[0mj\u001b[0m \u001b[0;32min\u001b[0m \u001b[0mtqdm\u001b[0m\u001b[0;34m(\u001b[0m\u001b[0mrange\u001b[0m\u001b[0;34m(\u001b[0m\u001b[0mlen\u001b[0m\u001b[0;34m(\u001b[0m\u001b[0mbases_sequenced\u001b[0m\u001b[0;34m)\u001b[0m\u001b[0;34m*\u001b[0m\u001b[0mnum_channels\u001b[0m\u001b[0;34m)\u001b[0m\u001b[0;34m)\u001b[0m\u001b[0;34m]\u001b[0m\u001b[0;34m)\u001b[0m\u001b[0;34m\u001b[0m\u001b[0;34m\u001b[0m\u001b[0m\n\u001b[0m\u001b[1;32m     15\u001b[0m     \u001b[0mY\u001b[0m \u001b[0;34m=\u001b[0m \u001b[0mnp\u001b[0m\u001b[0;34m.\u001b[0m\u001b[0mmoveaxis\u001b[0m\u001b[0;34m(\u001b[0m\u001b[0mY\u001b[0m\u001b[0;34m,\u001b[0m \u001b[0;36m1\u001b[0m\u001b[0;34m,\u001b[0m \u001b[0;34m-\u001b[0m\u001b[0;36m1\u001b[0m\u001b[0;34m)\u001b[0m\u001b[0;34m\u001b[0m\u001b[0;34m\u001b[0m\u001b[0m\n\u001b[1;32m     16\u001b[0m     \u001b[0mY\u001b[0m \u001b[0;34m=\u001b[0m \u001b[0mnp\u001b[0m\u001b[0;34m.\u001b[0m\u001b[0mmoveaxis\u001b[0m\u001b[0;34m(\u001b[0m\u001b[0mY\u001b[0m\u001b[0;34m,\u001b[0m \u001b[0;36m0\u001b[0m\u001b[0;34m,\u001b[0m \u001b[0;34m-\u001b[0m\u001b[0;36m1\u001b[0m\u001b[0;34m)\u001b[0m\u001b[0;34m\u001b[0m\u001b[0;34m\u001b[0m\u001b[0m\n",
      "\u001b[0;31mNameError\u001b[0m: name 'np' is not defined"
     ]
    }
   ],
   "source": [
    "def load_fov(filepath, ext = '_affine', raw = False):\n",
    "    num_channels = 3\n",
    "    bases_sequenced = [1, 2, 3, 4, 6]\n",
    "    \n",
    "    if raw:\n",
    "        file_strs = ['ch00', 'ch01', 'ch02']\n",
    "    else:\n",
    "        file_strs = ['ch00', 'ch01SHIFT', 'ch02SHIFT']\n",
    "    filenames = []\n",
    "    for ridx in bases_sequenced:\n",
    "        for fs in file_strs:\n",
    "            filenames.append(filepath+'richieseq_round00'+str(ridx)+'_'+fs+ext+'.tif')\n",
    "\n",
    "    Y = np.array([zoom(io.imread(filenames[j]), (0.25, 0.25, 0.25), order = 1)  for j in tqdm(range(len(bases_sequenced)*num_channels))])\n",
    "    Y = np.moveaxis(Y, 1, -1)\n",
    "    Y = np.moveaxis(Y, 0, -1)\n",
    "    \n",
    "    return Y\n",
    "\n",
    "fovs = ['0_0', '0_1', '1_0', '1_1', '2_0', '2_1', '3_0', '3_1', '4_0', '4_1', '5_0', '5_1', '6_0', '6_1']\n",
    "\n",
    "Ys = {}\n",
    "\n",
    "Ys['0_0'] = load_fov('/mp/nas2/DG/iarpa_virtual_tiles/0_0/2_color-correction/', ext = '')\n",
    "Ys['0_1'] = load_fov('/mp/nas2/DG/iarpa_virtual_tiles/0_1/2_color-correction/', ext = '')\n",
    "Ys['1_0'] = load_fov('/mp/nas2/DG/iarpa_virtual_tiles/1_0/4_registration/')\n",
    "Ys['1_1'] = load_fov('/mp/nas2/DG/iarpa_virtual_tiles/1_1/2_color-correction/', ext = '')\n",
    "Ys['2_0'] = load_fov('/mp/nas2/DG/iarpa_virtual_tiles/2_0/4_registration/')\n",
    "Ys['2_1'] = load_fov('/mp/nas2/DG/iarpa_virtual_tiles/2_1/4_registration/')\n",
    "Ys['3_0'] = load_fov('/mp/nas2/DG/iarpa_virtual_tiles/3_0/4_registration/')\n",
    "Ys['3_1'] = load_fov('/mp/nas2/DG/iarpa_virtual_tiles/3_1/4_registration/')\n",
    "Ys['4_0'] = load_fov('/mp/nas2/DG/iarpa_virtual_tiles/4_0/4_registration/')\n",
    "Ys['4_1'] = load_fov('/mp/nas2/DG/iarpa_virtual_tiles/4_1/4_registration/')\n",
    "Ys['5_0'] = load_fov('/mp/nas2/DG/iarpa_virtual_tiles/5_0/4_registration/')\n",
    "Ys['5_1'] = load_fov('/mp/nas2/DG/iarpa_virtual_tiles/5_1/4_registration/')\n",
    "Ys['6_0'] = load_fov('/mp/nas2/DG/iarpa_virtual_tiles/6_0/4_registration/')\n",
    "Ys['6_1'] = load_fov('/mp/nas2/DG/iarpa_virtual_tiles/6_1/4_registration/')\n",
    "\n",
    "#stitch all vfovs together\n",
    "full_stitch = np.concatenate([np.concatenate([Ys['0_0'], Ys['1_0'], Ys['2_0'], Ys['3_0'], Ys['4_0'], Ys['5_0'], Ys['6_0']], 0), np.concatenate([Ys['0_1'], Ys['1_1'], Ys['2_1'], Ys['3_1'], Ys['4_1'], Ys['5_1'], Ys['6_1']], 0)], 1)"
   ]
  },
  {
   "cell_type": "code",
   "execution_count": 7,
   "metadata": {
    "ExecuteTime": {
     "end_time": "2020-09-15T00:19:13.854556Z",
     "start_time": "2020-09-15T00:10:10.577142Z"
    }
   },
   "outputs": [
    {
     "data": {
      "application/vnd.jupyter.widget-view+json": {
       "model_id": "7b290e7c3d9d42809c2a5f04d7332c14",
       "version_major": 2,
       "version_minor": 0
      },
      "text/plain": [
       "HBox(children=(FloatProgress(value=0.0, max=15.0), HTML(value='')))"
      ]
     },
     "metadata": {},
     "output_type": "display_data"
    },
    {
     "name": "stdout",
     "output_type": "stream",
     "text": [
      "\n"
     ]
    },
    {
     "data": {
      "application/vnd.jupyter.widget-view+json": {
       "model_id": "e566315548c941b7acadc9a3eaccfc6b",
       "version_major": 2,
       "version_minor": 0
      },
      "text/plain": [
       "HBox(children=(FloatProgress(value=0.0, max=15.0), HTML(value='')))"
      ]
     },
     "metadata": {},
     "output_type": "display_data"
    },
    {
     "name": "stdout",
     "output_type": "stream",
     "text": [
      "\n"
     ]
    }
   ],
   "source": [
    "full_stitch = high_pass(full_stitch)\n",
    "full_stitch, sf = percentile_normalize(full_stitch, return_sf = True)\n",
    "\n",
    "pickle.dump(sf, open('full_stitch_normalization_weights.p', 'wb'))"
   ]
  },
  {
   "cell_type": "code",
   "execution_count": null,
   "metadata": {},
   "outputs": [],
   "source": [
    "#preprocess full stitch\n",
    "full_stitch = high_pass(full_stitch)\n",
    "full_stitch = percentile_normalize(full_stitch)\n",
    "\n",
    "#preprocess each individual FOV\n",
    "for fov in fovs:\n",
    "    try:\n",
    "        temp = high_pass(Ys[fov])\n",
    "        temp = percentile_normalize(temp)\n",
    "        Ys[fov] = temp\n",
    "    except:\n",
    "        print('High pass/normalization failed for FOV ' + fov)\n",
    "\n",
    "#make flat copy of full_stitch\n",
    "df1,df2,df3,fT = full_stitch.shape\n",
    "fdim = df1*df2*df3\n",
    "\n",
    "flat_full_stitch = np.reshape(full_stitch, (fdim, fT))"
   ]
  },
  {
   "cell_type": "code",
   "execution_count": null,
   "metadata": {},
   "outputs": [],
   "source": [
    "#specify how many cells initialized for each FOV\n",
    "num_cells_fov = [0, 0, 5, 0, 15, 15, 15, 15, 15, 15, 15, 15, 0, 0]\n",
    "\n",
    "for fov_idx in range(len(fovs)):\n",
    "    fov_file_label = fovs[fov_idx]\n",
    "    print(fov_file_label)\n",
    "    num_cells = num_cells_fov[fov_idx]\n",
    "    if num_cells == 0:\n",
    "        print('Skipping FOV ' + str(fov_file_label) + '...')\n",
    "    else:\n",
    "        print('Running FOV ' + str(fov_file_label) + '...')\n",
    "        Y = Ys[fov_file_label]\n",
    "        Y = high_pass(Y)\n",
    "        Y = percentile_normalize(Y)\n",
    "\n",
    "        d1,d2,d3,T = Y.shape\n",
    "        dim = d1*d2*d3\n",
    "\n",
    "        flatY = np.reshape(Y, (dim, T))\n",
    "\n",
    "        sigmas = [12,12,8]\n",
    "\n",
    "        patches = create_3D_patches([d1,d2,d3], [150, 150, 100], [30, 30, 30])\n",
    "        num_patches = patches.shape[-1]\n",
    "\n",
    "        A = np.zeros([d1,d2,d3, num_cells*num_patches])\n",
    "        C = np.zeros([num_cells*num_patches, T])\n",
    "        patch_list = np.zeros([num_cells*num_patches])\n",
    "\n",
    "        with warnings.catch_warnings():\n",
    "            # ignore all caught warnings\n",
    "            warnings.filterwarnings(\"ignore\")\n",
    "\n",
    "            for i in tqdm(range(num_patches)):\n",
    "                idx = i*num_cells\n",
    "                patch_coords = patches[:,:,i]\n",
    "                x1,y1,z1,x2,y2,z2 = np.ravel(patch_coords)\n",
    "                Ypatch = Y[x1:x2, y1:y2, z1:z2, :]\n",
    "                pl = np.array([i]*num_cells)\n",
    "                Apatch, Cpatch, pl = process_patch(Ypatch, num_cells, sigmas, pl)\n",
    "\n",
    "                merged_num = Cpatch.shape[0]\n",
    "                print('Reshaping patch results...')\n",
    "                patch_list[idx:idx+merged_num] = pl\n",
    "                C[idx:idx+merged_num] = Cpatch\n",
    "                A[:,:,:,idx:idx+merged_num] = embed_patch_results(Apatch, [d1,d2,d3], [x1,y1,z1], [x2, y2, z2])\n",
    "\n",
    "        A, C, patch_list = remove_empty_components(A, C, patch_list)\n",
    "        A, C, patch_list = merge_components(A, C, patch_list)\n",
    "\n",
    "        pickle.dump(A, open(fov_file_label+\"reprocess_complete_A.p\", \"wb\" ))\n",
    "        pickle.dump(C, open(fov_file_label+\"reprocess_complete_C.p\", \"wb\" ))"
   ]
  },
  {
   "cell_type": "markdown",
   "metadata": {},
   "source": [
    "## Post-Process NMF components"
   ]
  },
  {
   "cell_type": "markdown",
   "metadata": {},
   "source": [
    "### Load components"
   ]
  },
  {
   "cell_type": "code",
   "execution_count": 88,
   "metadata": {
    "ExecuteTime": {
     "end_time": "2020-08-03T21:53:26.044741Z",
     "start_time": "2020-08-03T21:49:47.457783Z"
    }
   },
   "outputs": [
    {
     "data": {
      "application/vnd.jupyter.widget-view+json": {
       "model_id": "cdc01df89e114ef7ba2105455216a3d0",
       "version_major": 2,
       "version_minor": 0
      },
      "text/plain": [
       "HBox(children=(FloatProgress(value=0.0, max=14.0), HTML(value='')))"
      ]
     },
     "metadata": {},
     "output_type": "display_data"
    },
    {
     "name": "stdout",
     "output_type": "stream",
     "text": [
      "No components loaded for 0_1\n",
      "No components loaded for 1_1\n",
      "No components loaded for 6_0\n",
      "No components loaded for 6_1\n",
      "\n"
     ]
    }
   ],
   "source": [
    "As = {}\n",
    "Cs = {}\n",
    "\n",
    "for fov in tqdm(fovs):\n",
    "    try:\n",
    "        As[fov] = pickle.load(open(fov+\"_A.p\", \"rb\" ))\n",
    "        Cs[fov] = pickle.load(open(fov+\"_C.p\", \"rb\" ))\n",
    "    except:\n",
    "        print('No components loaded for ' + fov)\n",
    "        "
   ]
  },
  {
   "cell_type": "code",
   "execution_count": 95,
   "metadata": {
    "ExecuteTime": {
     "end_time": "2020-08-03T22:10:09.316586Z",
     "start_time": "2020-08-03T22:10:09.292904Z"
    }
   },
   "outputs": [],
   "source": [
    "#label each component with its source fov, store info in fov_list\n",
    "fov_list = []\n",
    "for fov in fovs:\n",
    "    if fov in As:\n",
    "        fov_list = fov_list + [fov] * As[fov].shape[-1]\n",
    "        \n",
    "fov_list = np.array(fov_list)\n",
    "\n",
    "#store padding needed to convert fov coords -> full stitch coords\n",
    "padding = {}\n",
    "full_padding = {}\n",
    "ffv1, ffv2, ffv3 = 1870, 1946, 400\n",
    "fv1, fv2, fv3 = 468, 486, 100\n",
    "for fov in fovs:\n",
    "    full_padding[fov] = np.array((int(fov[0])*ffv1, int(fov[2])*ffv2, 0))\n",
    "    padding[fov] = np.array((int(fov[0])*fv1, int(fov[2])*fv2, 0))"
   ]
  },
  {
   "cell_type": "markdown",
   "metadata": {},
   "source": [
    "### Calculate statistics on NMF components"
   ]
  },
  {
   "cell_type": "code",
   "execution_count": 81,
   "metadata": {
    "ExecuteTime": {
     "end_time": "2020-08-03T19:43:40.869514Z",
     "start_time": "2020-08-03T18:32:18.372152Z"
    },
    "collapsed": true
   },
   "outputs": [
    {
     "data": {
      "application/vnd.jupyter.widget-view+json": {
       "model_id": "38889e867d3843a0a3b9d3b1e21869af",
       "version_major": 2,
       "version_minor": 0
      },
      "text/plain": [
       "HBox(children=(FloatProgress(value=0.0, max=14.0), HTML(value='')))"
      ]
     },
     "metadata": {},
     "output_type": "display_data"
    },
    {
     "data": {
      "application/vnd.jupyter.widget-view+json": {
       "model_id": "9ed0bdd3944e42b2bbdfc485e425e9c2",
       "version_major": 2,
       "version_minor": 0
      },
      "text/plain": [
       "HBox(children=(FloatProgress(value=0.0, max=53.0), HTML(value='')))"
      ]
     },
     "metadata": {},
     "output_type": "display_data"
    },
    {
     "name": "stdout",
     "output_type": "stream",
     "text": [
      "\n"
     ]
    },
    {
     "data": {
      "application/vnd.jupyter.widget-view+json": {
       "model_id": "5271192a03ae4b7ba0a5b90536116350",
       "version_major": 2,
       "version_minor": 0
      },
      "text/plain": [
       "HBox(children=(FloatProgress(value=0.0, max=50.0), HTML(value='')))"
      ]
     },
     "metadata": {},
     "output_type": "display_data"
    },
    {
     "name": "stdout",
     "output_type": "stream",
     "text": [
      "\n"
     ]
    },
    {
     "data": {
      "application/vnd.jupyter.widget-view+json": {
       "model_id": "da72ba8b2bb44e24a710ccd15134e45f",
       "version_major": 2,
       "version_minor": 0
      },
      "text/plain": [
       "HBox(children=(FloatProgress(value=0.0, max=121.0), HTML(value='')))"
      ]
     },
     "metadata": {},
     "output_type": "display_data"
    },
    {
     "name": "stderr",
     "output_type": "stream",
     "text": [
      "/home/axue/miniconda3/envs/seq/lib/python3.8/site-packages/autograd/numpy/numpy_vjps.py:59: RuntimeWarning: divide by zero encountered in power\n",
      "  lambda ans, x, y : unbroadcast_f(x, lambda g: g * y * x ** anp.where(y, y - 1, 1.)),\n",
      "/home/axue/miniconda3/envs/seq/lib/python3.8/site-packages/autograd/numpy/numpy_vjps.py:71: RuntimeWarning: invalid value encountered in multiply\n",
      "  lambda ans, x : lambda g: g * replace_zero(anp.conj(x), 0.) / replace_zero(ans, 1.))\n"
     ]
    },
    {
     "name": "stdout",
     "output_type": "stream",
     "text": [
      "\n"
     ]
    },
    {
     "data": {
      "application/vnd.jupyter.widget-view+json": {
       "model_id": "c352ef36b00e434b831e4980200270f5",
       "version_major": 2,
       "version_minor": 0
      },
      "text/plain": [
       "HBox(children=(FloatProgress(value=0.0, max=104.0), HTML(value='')))"
      ]
     },
     "metadata": {},
     "output_type": "display_data"
    },
    {
     "name": "stdout",
     "output_type": "stream",
     "text": [
      "\n"
     ]
    },
    {
     "data": {
      "application/vnd.jupyter.widget-view+json": {
       "model_id": "f6f2c1c3c44f4adba826525b7db8910c",
       "version_major": 2,
       "version_minor": 0
      },
      "text/plain": [
       "HBox(children=(FloatProgress(value=0.0, max=135.0), HTML(value='')))"
      ]
     },
     "metadata": {},
     "output_type": "display_data"
    },
    {
     "name": "stdout",
     "output_type": "stream",
     "text": [
      "\n"
     ]
    },
    {
     "data": {
      "application/vnd.jupyter.widget-view+json": {
       "model_id": "50df0333a41d4b1bab21a27260a88b9a",
       "version_major": 2,
       "version_minor": 0
      },
      "text/plain": [
       "HBox(children=(FloatProgress(value=0.0, max=119.0), HTML(value='')))"
      ]
     },
     "metadata": {},
     "output_type": "display_data"
    },
    {
     "name": "stdout",
     "output_type": "stream",
     "text": [
      "\n"
     ]
    },
    {
     "data": {
      "application/vnd.jupyter.widget-view+json": {
       "model_id": "67f1ec60457a4f65bb55e381bf8ecef3",
       "version_major": 2,
       "version_minor": 0
      },
      "text/plain": [
       "HBox(children=(FloatProgress(value=0.0, max=126.0), HTML(value='')))"
      ]
     },
     "metadata": {},
     "output_type": "display_data"
    },
    {
     "name": "stdout",
     "output_type": "stream",
     "text": [
      "\n"
     ]
    },
    {
     "data": {
      "application/vnd.jupyter.widget-view+json": {
       "model_id": "c6f498290fd342748b542f4409daae94",
       "version_major": 2,
       "version_minor": 0
      },
      "text/plain": [
       "HBox(children=(FloatProgress(value=0.0, max=132.0), HTML(value='')))"
      ]
     },
     "metadata": {},
     "output_type": "display_data"
    },
    {
     "name": "stdout",
     "output_type": "stream",
     "text": [
      "\n"
     ]
    },
    {
     "data": {
      "application/vnd.jupyter.widget-view+json": {
       "model_id": "5811d2c41fd44e8f8797d3efafd51767",
       "version_major": 2,
       "version_minor": 0
      },
      "text/plain": [
       "HBox(children=(FloatProgress(value=0.0, max=122.0), HTML(value='')))"
      ]
     },
     "metadata": {},
     "output_type": "display_data"
    },
    {
     "name": "stdout",
     "output_type": "stream",
     "text": [
      "\n"
     ]
    },
    {
     "data": {
      "application/vnd.jupyter.widget-view+json": {
       "model_id": "1adca9a16deb47bb9a0d15d62e9007a2",
       "version_major": 2,
       "version_minor": 0
      },
      "text/plain": [
       "HBox(children=(FloatProgress(value=0.0, max=112.0), HTML(value='')))"
      ]
     },
     "metadata": {},
     "output_type": "display_data"
    },
    {
     "name": "stdout",
     "output_type": "stream",
     "text": [
      "\n",
      "\n"
     ]
    }
   ],
   "source": [
    "nmf_distances = []\n",
    "nmf_coms = []\n",
    "nmf_df = []\n",
    "\n",
    "for fov in tqdm(fovs):\n",
    "    if fov in As:\n",
    "        A = As[fov]\n",
    "        for cidx in tqdm(range(A.shape[-1])):\n",
    "            comp = A[:,:,:,cidx]\n",
    "            \n",
    "            #take highest intensity pixels in NMF A image, find center of mass of those pixels\n",
    "            high = comp > np.percentile(comp, 99.99)\n",
    "            comr = center_of_mass_norm(high, 0.5)\n",
    "            x,y,z = comr\n",
    "            xpos, ypos, zpos = np.where(high)\n",
    "            \n",
    "            #find distance from high intensity pixels to center of mass\n",
    "            distance = []\n",
    "            for idx in range(xpos.shape[-1]):\n",
    "                dist= (xpos[idx]-x)**2 + (ypos[idx]-y)**2 + (zpos[idx]-z)**2\n",
    "                distance.append(dist ** 0.5)\n",
    "            nmf_distances.append(distance)\n",
    "            \n",
    "            #check the density of high pixel mask by checking size increase after dilation\n",
    "            df = np.sum(dilation(high, ball(1))) / np.sum(high)\n",
    "            nmf_df.append(df)\n",
    "\n",
    "            com = comr + padding[fov]\n",
    "            nmf_coms.append(com)\n",
    "            \n",
    "nmf_median_distances = np.array([np.median(distances) for distances in nmf_distances])\n",
    "\n",
    "nmf_coms = np.array(nmf_coms)\n",
    "nmf_df = np.array(nmf_df)"
   ]
  },
  {
   "cell_type": "code",
   "execution_count": null,
   "metadata": {},
   "outputs": [],
   "source": [
    "#mark components with a low density or high median distance to center of mass (potentially multiple cell bodies)\n",
    "prefilter = np.logical_and(nmf_median_distances < 50, nmf_df < 5)\n",
    "\n",
    "#mark components in different patches that have similar center of mass and temporal signal\n",
    "#(suggests cell is on fov border, was initialized twice)\n",
    "fullC = np.concatenate([Cs[fov] for fov in fovs if fov in Cs], 0)\n",
    "tc = create_temporal_correlation(fullC)\n",
    "pm = patch_mismatch(fov_list)\n",
    "comd = cdist(nmf_coms, nmf_coms)\n",
    "\n",
    "merge_across_patches = connected_components(np.logical_and(np.logical_and(comd < 90, pm), tc > 0.85), 2)\n",
    "\n",
    "remove_indices = []\n",
    "for cc in tqdm(merge_across_patches):\n",
    "    cc_sizes = [np.sum(As[get_fov_index(fov_list, elm)[0]][:,:,:,get_fov_index(fov_list, elm)[1]]) for elm in cc]\n",
    "    [remove_indices.append(index) for index in cc if index != cc[np.argmax(cc_sizes)]]\n",
    "    \n",
    "prefilter[remove_indices] = False\n",
    "\n",
    "prefilter = np.where(prefilter)[0]"
   ]
  },
  {
   "cell_type": "code",
   "execution_count": 87,
   "metadata": {
    "ExecuteTime": {
     "end_time": "2020-08-03T21:49:28.766687Z",
     "start_time": "2020-08-03T21:43:14.683265Z"
    }
   },
   "outputs": [
    {
     "ename": "KeyboardInterrupt",
     "evalue": "",
     "output_type": "error",
     "traceback": [
      "\u001b[0;31m---------------------------------------------------------------------------\u001b[0m",
      "\u001b[0;31mKeyboardInterrupt\u001b[0m                         Traceback (most recent call last)",
      "\u001b[0;32m<ipython-input-87-082386baa6e8>\u001b[0m in \u001b[0;36m<module>\u001b[0;34m\u001b[0m\n\u001b[1;32m      4\u001b[0m \u001b[0;32mfor\u001b[0m \u001b[0mfov\u001b[0m \u001b[0;32min\u001b[0m \u001b[0mfovs\u001b[0m\u001b[0;34m:\u001b[0m\u001b[0;34m\u001b[0m\u001b[0;34m\u001b[0m\u001b[0m\n\u001b[1;32m      5\u001b[0m     \u001b[0;32mif\u001b[0m \u001b[0mfov\u001b[0m \u001b[0;32min\u001b[0m \u001b[0mAs\u001b[0m\u001b[0;34m:\u001b[0m\u001b[0;34m\u001b[0m\u001b[0;34m\u001b[0m\u001b[0m\n\u001b[0;32m----> 6\u001b[0;31m         \u001b[0mAs\u001b[0m\u001b[0;34m[\u001b[0m\u001b[0mfov\u001b[0m\u001b[0;34m]\u001b[0m \u001b[0;34m=\u001b[0m \u001b[0mAs\u001b[0m\u001b[0;34m[\u001b[0m\u001b[0mfov\u001b[0m\u001b[0;34m]\u001b[0m\u001b[0;34m[\u001b[0m\u001b[0;34m:\u001b[0m\u001b[0;34m,\u001b[0m\u001b[0;34m:\u001b[0m\u001b[0;34m,\u001b[0m\u001b[0;34m:\u001b[0m\u001b[0;34m,\u001b[0m \u001b[0mkeep_dict\u001b[0m\u001b[0;34m[\u001b[0m\u001b[0mfov\u001b[0m\u001b[0;34m]\u001b[0m\u001b[0;34m]\u001b[0m\u001b[0;34m\u001b[0m\u001b[0;34m\u001b[0m\u001b[0m\n\u001b[0m\u001b[1;32m      7\u001b[0m         \u001b[0mCs\u001b[0m\u001b[0;34m[\u001b[0m\u001b[0mfov\u001b[0m\u001b[0;34m]\u001b[0m \u001b[0;34m=\u001b[0m \u001b[0mCs\u001b[0m\u001b[0;34m[\u001b[0m\u001b[0mfov\u001b[0m\u001b[0;34m]\u001b[0m\u001b[0;34m[\u001b[0m\u001b[0mkeep_dict\u001b[0m\u001b[0;34m[\u001b[0m\u001b[0mfov\u001b[0m\u001b[0;34m]\u001b[0m\u001b[0;34m,\u001b[0m \u001b[0;34m:\u001b[0m\u001b[0;34m]\u001b[0m\u001b[0;34m\u001b[0m\u001b[0;34m\u001b[0m\u001b[0m\n",
      "\u001b[0;31mKeyboardInterrupt\u001b[0m: "
     ]
    }
   ],
   "source": [
    "#remove marked components\n",
    "keep_dict = get_fov_index_dict(fov_list,prefilter)\n",
    "fov_list = fov_list[prefilter]\n",
    "\n",
    "for fov in fovs:\n",
    "    if fov in As:\n",
    "        As[fov] = As[fov][:,:,:, keep_dict[fov]]\n",
    "        Cs[fov] = Cs[fov][keep_dict[fov], :]\n",
    "        \n",
    "nmf_coms = nmf_coms[prefilter, :]\n",
    "nmf_df = nmf_df[prefilter, :]\n",
    "fullC = np.concatenate([Cs[fov] for fov in fovs if fov in Cs], 0)"
   ]
  },
  {
   "cell_type": "markdown",
   "metadata": {},
   "source": [
    "### Train Basecalling Weights"
   ]
  },
  {
   "cell_type": "code",
   "execution_count": 325,
   "metadata": {
    "ExecuteTime": {
     "end_time": "2020-07-14T05:51:14.227697Z",
     "start_time": "2020-07-14T05:45:59.300636Z"
    },
    "scrolled": true
   },
   "outputs": [
    {
     "data": {
      "application/vnd.jupyter.widget-view+json": {
       "model_id": "84fa070efe0f4ba7bcdf005740efa7ae",
       "version_major": 2,
       "version_minor": 0
      },
      "text/plain": [
       "HBox(children=(FloatProgress(value=0.0, max=35.0), HTML(value='')))"
      ]
     },
     "metadata": {},
     "output_type": "display_data"
    },
    {
     "name": "stdout",
     "output_type": "stream",
     "text": [
      "\n"
     ]
    },
    {
     "data": {
      "application/vnd.jupyter.widget-view+json": {
       "model_id": "4d8798b91713407196df5e6de9431281",
       "version_major": 2,
       "version_minor": 0
      },
      "text/plain": [
       "HBox(children=(FloatProgress(value=0.0, max=37.0), HTML(value='')))"
      ]
     },
     "metadata": {},
     "output_type": "display_data"
    },
    {
     "name": "stdout",
     "output_type": "stream",
     "text": [
      "\n"
     ]
    },
    {
     "data": {
      "application/vnd.jupyter.widget-view+json": {
       "model_id": "77bb755c89e54c4ab21d4b1c8aff9b1f",
       "version_major": 2,
       "version_minor": 0
      },
      "text/plain": [
       "HBox(children=(FloatProgress(value=0.0, max=69.0), HTML(value='')))"
      ]
     },
     "metadata": {},
     "output_type": "display_data"
    },
    {
     "name": "stdout",
     "output_type": "stream",
     "text": [
      "\n"
     ]
    },
    {
     "data": {
      "application/vnd.jupyter.widget-view+json": {
       "model_id": "b703dfba78db432d8407070113c41f13",
       "version_major": 2,
       "version_minor": 0
      },
      "text/plain": [
       "HBox(children=(FloatProgress(value=0.0, max=60.0), HTML(value='')))"
      ]
     },
     "metadata": {},
     "output_type": "display_data"
    },
    {
     "name": "stdout",
     "output_type": "stream",
     "text": [
      "\n"
     ]
    },
    {
     "data": {
      "application/vnd.jupyter.widget-view+json": {
       "model_id": "7cec1ae261df4c97af548e73165be2a7",
       "version_major": 2,
       "version_minor": 0
      },
      "text/plain": [
       "HBox(children=(FloatProgress(value=0.0, max=89.0), HTML(value='')))"
      ]
     },
     "metadata": {},
     "output_type": "display_data"
    },
    {
     "name": "stdout",
     "output_type": "stream",
     "text": [
      "\n"
     ]
    },
    {
     "data": {
      "application/vnd.jupyter.widget-view+json": {
       "model_id": "fe157cc979f84cfea2df37defdc16fe5",
       "version_major": 2,
       "version_minor": 0
      },
      "text/plain": [
       "HBox(children=(FloatProgress(value=0.0, max=92.0), HTML(value='')))"
      ]
     },
     "metadata": {},
     "output_type": "display_data"
    },
    {
     "name": "stdout",
     "output_type": "stream",
     "text": [
      "\n"
     ]
    },
    {
     "data": {
      "application/vnd.jupyter.widget-view+json": {
       "model_id": "0d3a52e7dc014f4e966df73c231b3f63",
       "version_major": 2,
       "version_minor": 0
      },
      "text/plain": [
       "HBox(children=(FloatProgress(value=0.0, max=82.0), HTML(value='')))"
      ]
     },
     "metadata": {},
     "output_type": "display_data"
    },
    {
     "name": "stdout",
     "output_type": "stream",
     "text": [
      "\n"
     ]
    },
    {
     "data": {
      "application/vnd.jupyter.widget-view+json": {
       "model_id": "ea216588aae54dc792f1f11ffd29ffcd",
       "version_major": 2,
       "version_minor": 0
      },
      "text/plain": [
       "HBox(children=(FloatProgress(value=0.0, max=65.0), HTML(value='')))"
      ]
     },
     "metadata": {},
     "output_type": "display_data"
    },
    {
     "name": "stdout",
     "output_type": "stream",
     "text": [
      "\n"
     ]
    },
    {
     "data": {
      "application/vnd.jupyter.widget-view+json": {
       "model_id": "1225f9ce09c3473eaa72c63d015dde56",
       "version_major": 2,
       "version_minor": 0
      },
      "text/plain": [
       "HBox(children=(FloatProgress(value=0.0, max=48.0), HTML(value='')))"
      ]
     },
     "metadata": {},
     "output_type": "display_data"
    },
    {
     "name": "stdout",
     "output_type": "stream",
     "text": [
      "\n"
     ]
    },
    {
     "data": {
      "application/vnd.jupyter.widget-view+json": {
       "model_id": "0f592604e5584aec9fcc2699222b8a8a",
       "version_major": 2,
       "version_minor": 0
      },
      "text/plain": [
       "HBox(children=(FloatProgress(value=0.0, max=19.0), HTML(value='')))"
      ]
     },
     "metadata": {},
     "output_type": "display_data"
    },
    {
     "name": "stdout",
     "output_type": "stream",
     "text": [
      "\n"
     ]
    },
    {
     "data": {
      "application/vnd.jupyter.widget-view+json": {
       "model_id": "dc6d1c4e37084e2e8b9f9540fd1bf354",
       "version_major": 2,
       "version_minor": 0
      },
      "text/plain": [
       "HBox(children=(FloatProgress(value=0.0, max=35.0), HTML(value='')))"
      ]
     },
     "metadata": {},
     "output_type": "display_data"
    },
    {
     "name": "stdout",
     "output_type": "stream",
     "text": [
      "\n"
     ]
    },
    {
     "data": {
      "application/vnd.jupyter.widget-view+json": {
       "model_id": "a9d06ecca12e42a4ba24609165b8f4ce",
       "version_major": 2,
       "version_minor": 0
      },
      "text/plain": [
       "HBox(children=(FloatProgress(value=0.0, max=37.0), HTML(value='')))"
      ]
     },
     "metadata": {},
     "output_type": "display_data"
    },
    {
     "name": "stdout",
     "output_type": "stream",
     "text": [
      "\n"
     ]
    },
    {
     "data": {
      "application/vnd.jupyter.widget-view+json": {
       "model_id": "972fe1af6dea4111bc6e1d14f30ff510",
       "version_major": 2,
       "version_minor": 0
      },
      "text/plain": [
       "HBox(children=(FloatProgress(value=0.0, max=69.0), HTML(value='')))"
      ]
     },
     "metadata": {},
     "output_type": "display_data"
    },
    {
     "name": "stdout",
     "output_type": "stream",
     "text": [
      "\n"
     ]
    },
    {
     "data": {
      "application/vnd.jupyter.widget-view+json": {
       "model_id": "8e0331ca8c404a5c9f0b1e7a37cf04a1",
       "version_major": 2,
       "version_minor": 0
      },
      "text/plain": [
       "HBox(children=(FloatProgress(value=0.0, max=60.0), HTML(value='')))"
      ]
     },
     "metadata": {},
     "output_type": "display_data"
    },
    {
     "name": "stdout",
     "output_type": "stream",
     "text": [
      "\n"
     ]
    },
    {
     "data": {
      "application/vnd.jupyter.widget-view+json": {
       "model_id": "ab112836e03f403880a8889fdabf64e1",
       "version_major": 2,
       "version_minor": 0
      },
      "text/plain": [
       "HBox(children=(FloatProgress(value=0.0, max=89.0), HTML(value='')))"
      ]
     },
     "metadata": {},
     "output_type": "display_data"
    },
    {
     "name": "stdout",
     "output_type": "stream",
     "text": [
      "\n"
     ]
    },
    {
     "data": {
      "application/vnd.jupyter.widget-view+json": {
       "model_id": "8c19d91efa67466e927a736412bc54fa",
       "version_major": 2,
       "version_minor": 0
      },
      "text/plain": [
       "HBox(children=(FloatProgress(value=0.0, max=92.0), HTML(value='')))"
      ]
     },
     "metadata": {},
     "output_type": "display_data"
    },
    {
     "name": "stdout",
     "output_type": "stream",
     "text": [
      "\n"
     ]
    },
    {
     "data": {
      "application/vnd.jupyter.widget-view+json": {
       "model_id": "3df2b281a95a4a329a0d60adf0f62c02",
       "version_major": 2,
       "version_minor": 0
      },
      "text/plain": [
       "HBox(children=(FloatProgress(value=0.0, max=82.0), HTML(value='')))"
      ]
     },
     "metadata": {},
     "output_type": "display_data"
    },
    {
     "name": "stdout",
     "output_type": "stream",
     "text": [
      "\n"
     ]
    },
    {
     "data": {
      "application/vnd.jupyter.widget-view+json": {
       "model_id": "aea9140d5bf445f4a3e210e72824fbd2",
       "version_major": 2,
       "version_minor": 0
      },
      "text/plain": [
       "HBox(children=(FloatProgress(value=0.0, max=65.0), HTML(value='')))"
      ]
     },
     "metadata": {},
     "output_type": "display_data"
    },
    {
     "name": "stdout",
     "output_type": "stream",
     "text": [
      "\n"
     ]
    },
    {
     "data": {
      "application/vnd.jupyter.widget-view+json": {
       "model_id": "d36a4b94b20f4b459edde6e95263a22c",
       "version_major": 2,
       "version_minor": 0
      },
      "text/plain": [
       "HBox(children=(FloatProgress(value=0.0, max=48.0), HTML(value='')))"
      ]
     },
     "metadata": {},
     "output_type": "display_data"
    },
    {
     "name": "stdout",
     "output_type": "stream",
     "text": [
      "\n"
     ]
    },
    {
     "data": {
      "application/vnd.jupyter.widget-view+json": {
       "model_id": "f506db7310174fb4be14cdb2a581a322",
       "version_major": 2,
       "version_minor": 0
      },
      "text/plain": [
       "HBox(children=(FloatProgress(value=0.0, max=19.0), HTML(value='')))"
      ]
     },
     "metadata": {},
     "output_type": "display_data"
    },
    {
     "name": "stdout",
     "output_type": "stream",
     "text": [
      "\n"
     ]
    }
   ],
   "source": [
    "#make input data for training\n",
    "num_pixels = 1000 # how many top pixel values used to calculate basecalling loss\n",
    "inputs = []\n",
    "cross_comp_vals = []\n",
    "\n",
    "#use all remaining NMF components to calculate maximally discriminative basecalling weights\n",
    "for fov in fovs:\n",
    "    if fov in As:\n",
    "        A = As[fov]\n",
    "        Y = Ys[fov]\n",
    "        C = Cs[fov]\n",
    "        \n",
    "        #pick random x pixels from top 0.01 percent highest values of each component, assign those pixels to that components\n",
    "        #also pool values from each component into cross_comp_vals\n",
    "        selected_components = range(A.shape[-1])\n",
    "        for fidx in tqdm(selected_components):\n",
    "            input_vals = []\n",
    "            mask = A[:,:,:, fidx] > np.percentile(A[:,:,:, fidx], 99.99)\n",
    "            masked = Y[mask, :]\n",
    "\n",
    "            input_vals.append(reshape_data_for_optimization(masked[np.random.choice(masked.shape[0], size=num_pixels, replace = False), :]))    \n",
    "            inputs.append(input_vals)\n",
    "\n",
    "            cross_comp_vals.append(masked[np.random.choice(masked.shape[0], size=num_pixels, replace = False), :])\n",
    "\n",
    "\n",
    "cross_comp_vals = np.concatenate(cross_comp_vals, 0)\n",
    "\n",
    "#assign each component x pixels drawn randomly from the pool of pixels used by ALL components\n",
    "idx = 0\n",
    "for fov in fovs:\n",
    "    if fov in As:\n",
    "        A = As[fov]\n",
    "        Y = Ys[fov]\n",
    "        C = Cs[fov]\n",
    "        selected_components = range(A.shape[-1])\n",
    "        \n",
    "        for fidx in tqdm(selected_components):\n",
    "            inputs[idx].append(reshape_data_for_optimization(cross_comp_vals[np.random.choice(cross_comp_vals.shape[0], size=num_pixels, replace = False), :]))\n",
    "            inputs[idx].append(reshape_data_for_optimization(C[[fidx], :]))\n",
    "            idx+=1\n",
    "            \n",
    "#result is input data with length 3\n",
    "#1st item: 15-long signal vector for 1000 top pixels belonging to each NMF component\n",
    "#2nd item: 15-long signal vector for 1000 pixels belonging to random components\n",
    "#3rd item: 15-long vector = NMF C value for that component"
   ]
  },
  {
   "cell_type": "code",
   "execution_count": 332,
   "metadata": {
    "ExecuteTime": {
     "end_time": "2020-07-14T13:58:21.347189Z",
     "start_time": "2020-07-14T06:57:52.527686Z"
    },
    "collapsed": true
   },
   "outputs": [
    {
     "name": "stdout",
     "output_type": "stream",
     "text": [
      "Initial loss: 8.522170937175297\n"
     ]
    },
    {
     "data": {
      "application/vnd.jupyter.widget-view+json": {
       "model_id": "6690c5da26c34469830a699bb34e1866",
       "version_major": 2,
       "version_minor": 0
      },
      "text/plain": [
       "HBox(children=(FloatProgress(value=0.0, max=500.0), HTML(value='')))"
      ]
     },
     "metadata": {},
     "output_type": "display_data"
    },
    {
     "name": "stdout",
     "output_type": "stream",
     "text": [
      "Current loss: 8.522170937175297\n",
      "Current loss: 2.7997774957012953\n",
      "Current loss: 2.7776894066682765\n",
      "Current loss: 2.758026535462781\n",
      "Current loss: 2.739238573726101\n",
      "Current loss: 2.7215074862661353\n",
      "Current loss: 2.704826877473797\n",
      "Current loss: 2.688989622417308\n",
      "Current loss: 2.673917326982906\n",
      "Current loss: 2.6644719520610685\n",
      "Current loss: 2.6490747475164906\n",
      "Current loss: 2.6355120237912764\n",
      "Current loss: 2.622719284111408\n",
      "Current loss: 2.610459778147777\n",
      "Current loss: 2.598625857005801\n",
      "Current loss: 2.5870546856178356\n",
      "Current loss: 2.5755079251034507\n",
      "Current loss: 2.563894225364197\n",
      "Current loss: 2.552718711262135\n",
      "Current loss: 2.5424163473199677\n",
      "Current loss: 2.5325399538561397\n",
      "Current loss: 2.5231516275312327\n",
      "Current loss: 2.5172584329845913\n",
      "Current loss: 2.513222586433723\n",
      "Current loss: 2.502602429066288\n",
      "Current loss: 2.497713330486314\n",
      "Current loss: 2.4902563306221053\n",
      "Current loss: 2.4818159286631327\n",
      "Current loss: 2.4741786905193104\n",
      "Current loss: 2.4650044751601836\n",
      "Current loss: 2.4552911276827407\n",
      "Current loss: 2.454845097334104\n",
      "Current loss: 2.446448463498119\n",
      "Current loss: 2.4373007394958854\n",
      "Current loss: 2.4339762234832762\n",
      "Current loss: 2.4474367921039235\n",
      "Current loss: 2.4344892392925925\n",
      "Current loss: 2.4271426722569522\n",
      "Current loss: 2.457896686659871\n",
      "Current loss: 2.399642672056377\n",
      "Current loss: 2.462652920125479\n",
      "Current loss: 2.40503386563838\n",
      "Current loss: 2.3967177444751884\n",
      "Current loss: 2.4373036467809115\n",
      "Current loss: 2.391951220551116\n",
      "Current loss: 2.384063183333149\n",
      "Current loss: 2.3940818730500313\n",
      "Current loss: 2.3994015675966334\n",
      "Current loss: 2.4104080234105756\n",
      "Current loss: 2.4617640811542714\n",
      "\n"
     ]
    },
    {
     "data": {
      "application/vnd.jupyter.widget-view+json": {
       "model_id": "1e6c945f99634d74ae68021ecd4f6606",
       "version_major": 2,
       "version_minor": 0
      },
      "text/plain": [
       "HBox(children=(FloatProgress(value=0.0, max=500.0), HTML(value='')))"
      ]
     },
     "metadata": {},
     "output_type": "display_data"
    },
    {
     "name": "stdout",
     "output_type": "stream",
     "text": [
      "Current loss: 2.3679608445568117\n",
      "Current loss: 2.3525622514774036\n",
      "Current loss: 2.3515700759751605\n",
      "Current loss: 2.3510813700117827\n",
      "Current loss: 2.350646590221187\n",
      "Current loss: 2.3502252580815814\n",
      "Current loss: 2.349806835144144\n",
      "Current loss: 2.349387947844261\n",
      "Current loss: 2.3489674553317976\n",
      "Current loss: 2.348544889888356\n",
      "Current loss: 2.3481199563282966\n",
      "Current loss: 2.347692352535708\n",
      "Current loss: 2.347261678562711\n",
      "Current loss: 2.346827361877793\n",
      "Current loss: 2.3463885724612283\n",
      "Current loss: 2.345944111040012\n",
      "Current loss: 2.3454922500084416\n",
      "Current loss: 2.345030494757455\n",
      "Current loss: 2.344555211847452\n",
      "Current loss: 2.344061034555688\n",
      "Current loss: 2.3435398974738506\n",
      "Current loss: 2.342979457181779\n",
      "Current loss: 2.3423604846993626\n",
      "Current loss: 2.3416523109982808\n",
      "Current loss: 2.3408031850492574\n",
      "Current loss: 2.339714629942582\n",
      "Current loss: 2.3381959674018384\n",
      "Current loss: 2.336133498641753\n",
      "Current loss: 2.3339683310275126\n",
      "Current loss: 2.3321032403811888\n",
      "Current loss: 2.330581453757727\n",
      "Current loss: 2.3293603351150476\n",
      "Current loss: 2.3283766377019766\n",
      "Current loss: 2.327567048641072\n",
      "Current loss: 2.326883607613003\n",
      "Current loss: 2.326292850928135\n",
      "Current loss: 2.3257709088206644\n",
      "Current loss: 2.325300222184768\n",
      "Current loss: 2.3248676950020393\n",
      "Current loss: 2.3244635452047047\n",
      "Current loss: 2.324080498199113\n",
      "Current loss: 2.323713179662387\n",
      "Current loss: 2.3233576451835214\n",
      "Current loss: 2.32301101457977\n",
      "Current loss: 2.322671190435891\n",
      "Current loss: 2.3223366449200182\n",
      "Current loss: 2.3220062609735166\n",
      "Current loss: 2.3216792156406822\n",
      "Current loss: 2.3213548951934597\n",
      "Current loss: 2.321032833722303\n",
      "\n"
     ]
    },
    {
     "data": {
      "application/vnd.jupyter.widget-view+json": {
       "model_id": "ed53a0321ddf4ffd972c5634acd524f3",
       "version_major": 2,
       "version_minor": 0
      },
      "text/plain": [
       "HBox(children=(FloatProgress(value=0.0, max=500.0), HTML(value='')))"
      ]
     },
     "metadata": {},
     "output_type": "display_data"
    },
    {
     "name": "stdout",
     "output_type": "stream",
     "text": [
      "Current loss: 2.32071266876076\n",
      "Current loss: 2.320680748426688\n",
      "Current loss: 2.3206488437452366\n",
      "Current loss: 2.320616954464105\n",
      "Current loss: 2.3205850803351273\n",
      "Current loss: 2.320553221114115\n",
      "Current loss: 2.3205213765606687\n",
      "Current loss: 2.320489546438018\n",
      "Current loss: 2.3204577305128655\n",
      "Current loss: 2.320425928555204\n",
      "Current loss: 2.3203941403382022\n",
      "Current loss: 2.3203623656380277\n",
      "Current loss: 2.3203306042337073\n",
      "Current loss: 2.3202988559069864\n",
      "Current loss: 2.3202671204422036\n",
      "Current loss: 2.320235397626135\n",
      "Current loss: 2.3202036872478717\n",
      "Current loss: 2.320171989098709\n",
      "Current loss: 2.3201403029719923\n",
      "Current loss: 2.320108628663031\n",
      "Current loss: 2.3200769659689415\n",
      "Current loss: 2.320045314688571\n",
      "Current loss: 2.3200136746223485\n",
      "Current loss: 2.319982045572207\n",
      "Current loss: 2.319950427341458\n",
      "Current loss: 2.3199188197346787\n",
      "Current loss: 2.3198872225576443\n",
      "Current loss: 2.3198556356171736\n",
      "Current loss: 2.3198240587210903\n",
      "Current loss: 2.3197924916780726\n",
      "Current loss: 2.319760934297603\n",
      "Current loss: 2.3197293863898403\n",
      "Current loss: 2.3196978477655485\n",
      "Current loss: 2.319666318236005\n",
      "Current loss: 2.3196347976129092\n",
      "Current loss: 2.3196032857082947\n",
      "Current loss: 2.319571782334454\n",
      "Current loss: 2.3195402873038375\n",
      "Current loss: 2.319508800428984\n",
      "Current loss: 2.3194773215224385\n",
      "Current loss: 2.3194458503966677\n",
      "Current loss: 2.319414386863982\n",
      "Current loss: 2.3193829307364564\n",
      "Current loss: 2.3193514818258576\n",
      "Current loss: 2.319320039943559\n",
      "Current loss: 2.3192886049004695\n",
      "Current loss: 2.319257176506956\n",
      "Current loss: 2.3192257545727704\n",
      "Current loss: 2.3191943389069767\n",
      "Current loss: 2.3191629293178737\n",
      "\n",
      "Trained loss: 2.3191315256129132\n"
     ]
    }
   ],
   "source": [
    "#train weights that maximize basecalling agreement within the component while \n",
    "#maximizing basecalling difference between the component and randomly drawn pixels\n",
    "weights = np.array([[1, 0, 0, 0, 1, 0, 0, 0, 1, 1, 1, 0]]).astype('d')\n",
    "matrix_gradient = grad(basecalling_loss)\n",
    "learning_rates = [0.01, 0.001, 0.0001]\n",
    "training_steps = [500, 500, 500]\n",
    "print(\"Initial loss:\", basecalling_loss(weights))\n",
    "for train_idx in range(len(learning_rates)):\n",
    "    for i in tqdm(range(training_steps[train_idx])):\n",
    "        if i % 10 == 0:\n",
    "            print(\"Current loss:\", basecalling_loss(weights))\n",
    "        weights -= matrix_gradient(weights) * learning_rates[train_idx]\n",
    "\n",
    "print(\"Trained loss:\", basecalling_loss(weights))"
   ]
  },
  {
   "cell_type": "markdown",
   "metadata": {},
   "source": [
    "## Filter Duplicate Barcodes"
   ]
  },
  {
   "cell_type": "code",
   "execution_count": null,
   "metadata": {},
   "outputs": [],
   "source": [
    "# not done"
   ]
  },
  {
   "cell_type": "markdown",
   "metadata": {},
   "source": [
    "## Save Cell Barcodes / Weights"
   ]
  },
  {
   "cell_type": "code",
   "execution_count": null,
   "metadata": {},
   "outputs": [],
   "source": [
    "#save relevant info for exseq integration\n",
    "run_name = 'test1'\n",
    "pickle.dump(weights, open(run_name + \"_weights.p\", \"wb\" ))\n",
    "pickle.dump(nmf_coms, open(run_name + \"_centerofmass.p\", \"wb\" ))\n",
    "pickle.dump(nmf_df, open(run_name + \"_dilationfactor.p\", \"wb\" ))\n",
    "pickle.dump(fov_list, open(run_name + \"_fovlist.p\", \"wb\" ))"
   ]
  },
  {
   "cell_type": "code",
   "execution_count": null,
   "metadata": {},
   "outputs": [],
   "source": [
    "pickle.dump(fullC, open(run_name + \"_cvec.p\", \"wb\" ))\n",
    "\n",
    "b1, bT = fullC.shape\n",
    "barcodeC = np.reshape(fullC, (b1, 5, 3))\n",
    "barcodeC = np.matmul(barcodeC, rweights.T)\n",
    "barcodeC = (barcodeC / np.max(barcodeC, -1, keepdims = True) == 1).astype('int')\n",
    "barcodeC = np.reshape(barcodeC, (b1,-1))\n",
    "\n",
    "pickle.dump(barcodeC, open(run_name + \"_barcodes.p\", \"wb\" ))"
   ]
  }
 ],
 "metadata": {
  "celltoolbar": "Initialization Cell",
  "kernelspec": {
   "display_name": "Python 3 (ipykernel)",
   "language": "python",
   "name": "python3"
  },
  "language_info": {
   "codemirror_mode": {
    "name": "ipython",
    "version": 3
   },
   "file_extension": ".py",
   "mimetype": "text/x-python",
   "name": "python",
   "nbconvert_exporter": "python",
   "pygments_lexer": "ipython3",
   "version": "3.9.7"
  },
  "toc": {
   "base_numbering": 1,
   "nav_menu": {},
   "number_sections": true,
   "sideBar": true,
   "skip_h1_title": false,
   "title_cell": "Table of Contents",
   "title_sidebar": "Contents",
   "toc_cell": false,
   "toc_position": {
    "height": "calc(100% - 180px)",
    "left": "10px",
    "top": "150px",
    "width": "262px"
   },
   "toc_section_display": true,
   "toc_window_display": true
  }
 },
 "nbformat": 4,
 "nbformat_minor": 4
}

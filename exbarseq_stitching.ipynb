{
 "cells": [
  {
   "cell_type": "code",
   "execution_count": null,
   "metadata": {},
   "outputs": [],
   "source": [
    "import numpy as np\n",
    "import tifffile\n",
    "import os\n",
    "import pprint\n",
    "from itkwidgets import view\n",
    "\n",
    "import matplotlib.pyplot as plt"
   ]
  },
  {
   "cell_type": "markdown",
   "metadata": {},
   "source": [
    "## Set the directories"
   ]
  },
  {
   "cell_type": "code",
   "execution_count": null,
   "metadata": {},
   "outputs": [],
   "source": [
    "dir_name = '/mp/nas2/axue/prettycell_new/'\n",
    "file_names = os.listdir(dir_name)\n",
    "file_names = sorted(file_names)\n",
    "base1 =  [x for x in file_names if 'base01' in x]\n",
    "base2 =  [x for x in file_names if 'base02' in x]\n",
    "base3 =  [x for x in file_names if 'base03' in x]\n",
    "base4 =  [x for x in file_names if 'base04' in x]\n",
    "base5 =  [x for x in file_names if 'base05' in x]\n",
    "base6 =  [x for x in file_names if 'base06' in x]\n",
    "# pprint.pprint(base2)"
   ]
  },
  {
   "cell_type": "markdown",
   "metadata": {},
   "source": [
    "## [Optional] Visualize all the tiles"
   ]
  },
  {
   "cell_type": "code",
   "execution_count": null,
   "metadata": {},
   "outputs": [],
   "source": [
    "organization = [[1,1],\n",
    "                [2,1],\n",
    "                [3,1],\n",
    "                [3,2],\n",
    "                [2,2],\n",
    "                [1,2],\n",
    "                [1,3],\n",
    "                [2,3],\n",
    "                [3,3]]\n",
    "fig, axs = plt.subplots(3, 3)\n",
    "for i in range(9):\n",
    "        ch01 = tifffile.imread(os.path.join(dir_name,base6[i*4]))\n",
    "        ch02 = tifffile.imread(os.path.join(dir_name,base6[i*4+1]))\n",
    "        ch03 = tifffile.imread(os.path.join(dir_name,base6[i*4+2]))\n",
    "        ch04 = tifffile.imread(os.path.join(dir_name,base6[i*4+3]))\n",
    "        axs[organization[i][0]-1,organization[i][1]-1].imshow(np.max(ch04,axis = 0),vmax = 200)\n",
    "plt.show()\n"
   ]
  },
  {
   "cell_type": "markdown",
   "metadata": {},
   "source": [
    "## Organize according to terasticher format"
   ]
  },
  {
   "cell_type": "markdown",
   "metadata": {},
   "source": [
    "-  Change the x y z sizes according to your imaging configuration\n",
    "\n",
    "-  Change the amount of overlap 0.9\n",
    "\n",
    "-  Change to the channel you need"
   ]
  },
  {
   "cell_type": "code",
   "execution_count": null,
   "metadata": {
    "scrolled": true
   },
   "outputs": [],
   "source": [
    "organization = [[1,1],\n",
    "                [2,1],\n",
    "                [3,1],\n",
    "                [3,2],\n",
    "                [2,2],\n",
    "                [1,2],\n",
    "                [1,3],\n",
    "                [2,3],\n",
    "                [3,3]]\n",
    "\n",
    "def prepare_data_single(img,x_tile,y_tile):\n",
    "    z_len,_,_ =  img.shape\n",
    "    x = int((x_tile-1) * 2048 * 3.4 * 0.9) \n",
    "    y = int((y_tile-1) * 2048 * 3.4 * 0.9)\n",
    "    \n",
    "    directory = os.path.join(output_dir,\"{0:06d}\".format(x))\n",
    "    if os.path.isdir(directory):\n",
    "        pass\n",
    "    else:\n",
    "        os.mkdir(directory)\n",
    "        \n",
    "    directory = os.path.join(directory,\"{0:06d}_{1:06d}/\".format(x,y))\n",
    "    if os.path.isdir(directory):\n",
    "        pass\n",
    "    else:\n",
    "        os.mkdir(directory)\n",
    "        \n",
    "    for z_ind in range(z_len):\n",
    "        z = 8 * z_ind # 0.2 originall, andrew downsample by 4\n",
    "        tile = np.squeeze(img[z_ind,:,:])\n",
    "        tifffile.imsave(directory + \"{0:06d}.tif\".format(z),tile)\n",
    "\n",
    "           \n",
    "output_base = '/mp/nas2/ruihan/40x/input/base6/'\n",
    "\n",
    "if os.path.isdir(output_base):\n",
    "    pass\n",
    "else:\n",
    "    os.mkdir(output_base)\n",
    "    \n",
    "for i in range(3,4):\n",
    "    print(i)\n",
    "    img = tifffile.imread(os.path.join(dir_name,base6[i*4]))\n",
    "    img = img.astype(np.uint16)\n",
    "    \n",
    "    output_dir = output_base + '/sum/'\n",
    "    if os.path.isdir(output_dir):\n",
    "        pass\n",
    "    else:\n",
    "        os.mkdir(output_dir)\n",
    "    prepare_data_single(img,organization[i][0],organization[i][1])\n",
    "        \n",
    "    img = np.squeeze(img[:,:,0])\n",
    "    img = img.astype(np.uint16)\n",
    "    output_dir = output_base + '/ch01/'\n",
    "    if os.path.isdir(output_dir):\n",
    "        pass\n",
    "    else:\n",
    "        os.mkdir(output_dir)\n",
    "    prepare_data_single(img,organization[i][0],organization[i][1])\n",
    "    \n",
    "    img = np.squeeze(img[:,:,1])\n",
    "    img = img.astype(np.uint16)\n",
    "    output_dir = output_base + '/ch02/'\n",
    "    if os.path.isdir(output_dir):\n",
    "        pass\n",
    "    else:\n",
    "        os.mkdir(output_dir)\n",
    "    prepare_data_single(img,organization[i][0],organization[i][1])   \n",
    "    \n",
    "    img = np.squeeze(img[:,:,2])\n",
    "    img = img.astype(np.uint16)\n",
    "    output_dir = output_base + '/ch03/'\n",
    "    if os.path.isdir(output_dir):\n",
    "        pass\n",
    "    else:\n",
    "        os.mkdir(output_dir)\n",
    "    prepare_data_single(img,organization[i][0],organization[i][1])\n",
    "    \n",
    "    img = np.squeeze(img[:,:,0])\n",
    "    img = img.astype(np.uint16)\n",
    "    output_dir = output_base + '/ch04/'\n",
    "    if os.path.isdir(output_dir):\n",
    "        pass\n",
    "    else:\n",
    "        os.mkdir(output_dir)\n",
    "    prepare_data_single(img,organization[i][0],organization[i][1])"
   ]
  },
  {
   "cell_type": "markdown",
   "metadata": {},
   "source": [
    "# Register with sum channel"
   ]
  },
  {
   "cell_type": "markdown",
   "metadata": {},
   "source": [
    "- Set the input dir with all the organized tiles\n",
    "\n",
    "- Set the output dir"
   ]
  },
  {
   "cell_type": "code",
   "execution_count": null,
   "metadata": {},
   "outputs": [],
   "source": [
    "data_dir = '/mp/nas2/ruihan/40x/input/base6/ch01/'\n",
    "out_dir = '/mp/nas2/ruihan/40x/output/base6/ch01/'\n",
    "\n",
    "if os.path.isdir(out_dir):\n",
    "    pass\n",
    "else:\n",
    "    os.mkdir(out_dir)\n",
    "    \n",
    "cmd = \"/mp/nas2/ruihan/TeraStitcher-portable-1.11.10-Linux/terastitcher\\\n",
    "      --import \\\n",
    "      --volin='{}'\\\n",
    "      --ref1=1 --ref2=2 --ref3=3 \\\n",
    "      --vxl1=0.34 --vxl2=0.34 --vxl3=0.8 \\\n",
    "      --volin_plugin='TiledXY|2Dseries'\\\n",
    "      --sparse_data\".format(data_dir)\n",
    "# os.system(cmd)\n",
    "print(cmd)\n",
    "\n",
    "\n",
    "cmd = '/mp/nas2/ruihan/TeraStitcher-portable-1.11.10-Linux/terastitcher\\\n",
    "      --displcompute \\\n",
    "      --projin={}xml_import.xml\\\n",
    "      --sV=100 --sH=100\\\n",
    "      --subvoldim=100'.format(data_dir,1)\n",
    "# os.system(cmd)\n",
    "print(cmd)\n",
    "\n",
    "\n",
    "cmd = '/mp/nas2/ruihan/TeraStitcher-portable-1.11.10-Linux/terastitcher\\\n",
    "      --displproj\\\n",
    "      --projin={}xml_displcomp.xml'.format(data_dir)\n",
    "# os.system(cmd)\n",
    "print(cmd)\n",
    "\n",
    "cmd = '/mp/nas2/ruihan/TeraStitcher-portable-1.11.10-Linux/terastitcher\\\n",
    "      --displthres\\\n",
    "      --projin=\"{}xml_displproj.xml\"\\\n",
    "      --threshold=0.7'.format(data_dir)\n",
    "# os.system(cmd)\n",
    "print(cmd)\n",
    "\n",
    "cmd = '/mp/nas2/ruihan/TeraStitcher-portable-1.11.10-Linux/terastitcher\\\n",
    "      --placetiles\\\n",
    "      --projin=\"{}xml_displthres.xml\"'.format(data_dir)\n",
    "# os.system(cmd)\n",
    "print(cmd)\n",
    "   \n",
    "cmd = '/mp/nas2/ruihan/TeraStitcher-portable-1.11.10-Linux/terastitcher\\\n",
    "      --merge\\\n",
    "      --projin=\"{}xml_merging.xml\"\\\n",
    "      --volout=\"{}\"\\\n",
    "      --volout_plugin=\"TiledXY|3Dseries\"\\\n",
    "      --libtiff_uncompress\\\n",
    "      --imout_format=\"tif\"\\\n",
    "      --resolutions=013'.format(data_dir,out_dir)\n",
    "# os.system(cmd)\n",
    "print(cmd)"
   ]
  },
  {
   "cell_type": "markdown",
   "metadata": {},
   "source": [
    "## Generate xml file for the other channels"
   ]
  },
  {
   "cell_type": "code",
   "execution_count": null,
   "metadata": {},
   "outputs": [],
   "source": [
    "for base in ['base1','base2','base3','base4','base5','base6']:\n",
    "    for ch in ['ch01','ch02','ch03','ch04']:\n",
    "    \n",
    "        f = open(\"/mp/nas2/ruihan/40x/input/{}/sum/xml_displcomp.xml\".format(base), \"r\")\n",
    "        str = f.read()\n",
    "        f.close()\n",
    "\n",
    "        old = '/mp/nas2/ruihan/40x/input/{}/sum/'.format(base)\n",
    "        new = '/mp/nas2/ruihan/40x/input/{}/{}/'.format(base,ch)\n",
    "        str = str.replace(old,new)\n",
    "\n",
    "        f = open(r\"/mp/nas2/ruihan/40x/input/{}/{}/xml_displcomp.xml\".format(base,ch),\"w+\") \n",
    "        f.write(str)\n",
    "        f.close()"
   ]
  },
  {
   "cell_type": "markdown",
   "metadata": {},
   "source": [
    "## Register other channels"
   ]
  },
  {
   "cell_type": "markdown",
   "metadata": {},
   "source": [
    "You can either uncomment the os.system(cmd) after each command, or copy all the printed command to a TMUX session.\n",
    "\n",
    "The latter is recommended because it takes long and the jupyter notebook kernel may be closed when disconnected. "
   ]
  },
  {
   "cell_type": "code",
   "execution_count": null,
   "metadata": {
    "scrolled": false
   },
   "outputs": [],
   "source": [
    "import os\n",
    "\n",
    "def stitch(data_dir,out_dir):\n",
    "\n",
    "    if os.path.isdir(out_dir):\n",
    "        pass\n",
    "    else:\n",
    "        os.mkdir(out_dir)\n",
    "    \n",
    "    cmd = \"/mp/nas2/ruihan/TeraStitcher-portable-1.11.10-Linux/terastitcher\\\n",
    "      --import \\\n",
    "      --volin='{}'\\\n",
    "      --ref1=1 --ref2=2 --ref3=3 \\\n",
    "      --vxl1=0.34 --vxl2=0.34 --vxl3=0.8 \\\n",
    "      --volin_plugin='TiledXY|2Dseries'\\\n",
    "      --sparse_data\".format(data_dir)\n",
    "    print(cmd)\n",
    "\n",
    "#     cmd = '/mp/nas2/ruihan/TeraStitcher-portable-1.11.10-Linux/terastitcher\\\n",
    "#       --displcompute \\\n",
    "#       --projin={}xml_import.xml\\\n",
    "#       --sV=100 --sH=100\\\n",
    "#       --subvoldim=100'.format(data_dir,1)\n",
    "#     print(cmd)\n",
    "\n",
    "    cmd = '/mp/nas2/ruihan/TeraStitcher-portable-1.11.10-Linux/terastitcher\\\n",
    "      --displproj\\\n",
    "      --projin={}xml_displcomp.xml'.format(data_dir)\n",
    "#     os.system(cmd)\n",
    "    print(cmd)\n",
    "\n",
    "    cmd = '/mp/nas2/ruihan/TeraStitcher-portable-1.11.10-Linux/terastitcher\\\n",
    "      --displthres\\\n",
    "      --projin=\"{}xml_displproj.xml\"\\\n",
    "      --threshold=0.7'.format(data_dir)\n",
    "    # os.system(cmd)\n",
    "    print(cmd)\n",
    "\n",
    "    cmd = '/mp/nas2/ruihan/TeraStitcher-portable-1.11.10-Linux/terastitcher\\\n",
    "      --placetiles\\\n",
    "      --projin=\"{}xml_displthres.xml\"'.format(data_dir)\n",
    "    # os.system(cmd)\n",
    "    print(cmd)\n",
    "   \n",
    "    cmd = '/mp/nas2/ruihan/TeraStitcher-portable-1.11.10-Linux/terastitcher\\\n",
    "      --merge\\\n",
    "      --projin=\"{}xml_merging.xml\"\\\n",
    "      --volout=\"{}\"\\\n",
    "      --volout_plugin=\"TiledXY|3Dseries\"\\\n",
    "      --libtiff_uncompress\\\n",
    "      --imout_format=\"tif\"\\\n",
    "      --resolutions=0'.format(data_dir,out_dir)\n",
    "    # os.system(cmd)\n",
    "    print(cmd)\n",
    "    \n",
    "for base in ['base1']:#,'base3','base4','base5','base6']:\n",
    "    for ch in ['ch01','ch02','ch03','ch04']:\n",
    "        data_dir = '/mp/nas2/ruihan/40x/input/{}/{}/'.format(base,ch)\n",
    "        out_dir = '/mp/nas2/ruihan/40x/output/{}/{}/'.format(base,ch)\n",
    "        stitch(data_dir,out_dir)"
   ]
  },
  {
   "cell_type": "markdown",
   "metadata": {},
   "source": [
    "## Inspect the results"
   ]
  },
  {
   "cell_type": "code",
   "execution_count": null,
   "metadata": {},
   "outputs": [],
   "source": [
    "img = tifffile.imread('/mp/nas2/ruihan/40x/output/base5/sum/RES(5891x5896x319)/000000/000000_00-560/000000_00-560_000000.tif')"
   ]
  },
  {
   "cell_type": "code",
   "execution_count": null,
   "metadata": {},
   "outputs": [],
   "source": [
    "plt.figure(figsize = (20,20))\n",
    "plt.imshow(np.max(img,axis = 0),vmax = 300)"
   ]
  }
 ],
 "metadata": {
  "kernelspec": {
   "display_name": "exseq",
   "language": "python",
   "name": "exseq"
  },
  "language_info": {
   "codemirror_mode": {
    "name": "ipython",
    "version": 3
   },
   "file_extension": ".py",
   "mimetype": "text/x-python",
   "name": "python",
   "nbconvert_exporter": "python",
   "pygments_lexer": "ipython3",
   "version": "3.8.2"
  }
 },
 "nbformat": 4,
 "nbformat_minor": 4
}
